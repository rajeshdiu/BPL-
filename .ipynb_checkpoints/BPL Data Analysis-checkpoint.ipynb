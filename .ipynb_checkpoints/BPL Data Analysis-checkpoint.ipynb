{
 "cells": [
  {
   "cell_type": "code",
   "execution_count": 1,
   "id": "65a19c45",
   "metadata": {},
   "outputs": [],
   "source": [
    "import pandas as pd\n",
    "import numpy as np\n",
    "import matplotlib.pyplot as plt\n",
    "from sklearn.preprocessing import LabelEncoder\n",
    "import seaborn as sns\n",
    "import plotly.express as px\n",
    "from sklearn.model_selection import train_test_split\n",
    "from sklearn.naive_bayes import MultinomialNB\n",
    "from sklearn.ensemble import RandomForestClassifier\n",
    "from sklearn.linear_model import LogisticRegression\n",
    "from sklearn.metrics import accuracy_score\n",
    "from sklearn.preprocessing import LabelEncoder\n",
    "from sklearn.metrics import accuracy_score,classification_report,confusion_matrix,precision_score,recall_score,f1_score\n",
    "from sklearn.tree import DecisionTreeClassifier\n",
    "from sklearn.ensemble import RandomForestClassifier\n",
    "from sklearn.svm import SVC\n",
    "from sklearn import tree\n",
    "import plotly.offline as py\n",
    "from sklearn.neighbors import KNeighborsClassifier\n",
    "import warnings\n",
    "from sklearn.naive_bayes import GaussianNB\n",
    "import plotly.graph_objs as go\n",
    "import datetime\n",
    "from sklearn.feature_selection import RFE\n",
    "import datetime as dt"
   ]
  },
  {
   "cell_type": "code",
   "execution_count": 2,
   "id": "e6d9b858",
   "metadata": {},
   "outputs": [],
   "source": [
    "df=pd.read_csv(\"C:\\\\Users\\\\User\\\\Desktop\\\\Data Science\\\\Research Work\\\\MyProject\\\\BPL-Data-Analysis\\\\Dataset\\\\bpl.csv\")\n",
    "# skipinitialspace = True"
   ]
  },
  {
   "cell_type": "code",
   "execution_count": 3,
   "id": "46f1621d",
   "metadata": {},
   "outputs": [
    {
     "data": {
      "text/html": [
       "<div>\n",
       "<style scoped>\n",
       "    .dataframe tbody tr th:only-of-type {\n",
       "        vertical-align: middle;\n",
       "    }\n",
       "\n",
       "    .dataframe tbody tr th {\n",
       "        vertical-align: top;\n",
       "    }\n",
       "\n",
       "    .dataframe thead th {\n",
       "        text-align: right;\n",
       "    }\n",
       "</style>\n",
       "<table border=\"1\" class=\"dataframe\">\n",
       "  <thead>\n",
       "    <tr style=\"text-align: right;\">\n",
       "      <th></th>\n",
       "      <th>id</th>\n",
       "      <th>season</th>\n",
       "      <th>match_no</th>\n",
       "      <th>date</th>\n",
       "      <th>team_1</th>\n",
       "      <th>team_1_score</th>\n",
       "      <th>team_2</th>\n",
       "      <th>team_2_score</th>\n",
       "      <th>player_of_match</th>\n",
       "      <th>toss_winner</th>\n",
       "      <th>toss_decision</th>\n",
       "      <th>winner</th>\n",
       "      <th>venue</th>\n",
       "      <th>city</th>\n",
       "      <th>win_by_wickets</th>\n",
       "      <th>win_by_runs</th>\n",
       "      <th>result</th>\n",
       "      <th>umpire_1</th>\n",
       "      <th>umpire_2</th>\n",
       "    </tr>\n",
       "  </thead>\n",
       "  <tbody>\n",
       "    <tr>\n",
       "      <th>0</th>\n",
       "      <td>0</td>\n",
       "      <td>2011/12</td>\n",
       "      <td>Final</td>\n",
       "      <td>Feb 29 2012</td>\n",
       "      <td>Barisal Burners</td>\n",
       "      <td>140/7</td>\n",
       "      <td>Dhaka Gladiators</td>\n",
       "      <td>144/2</td>\n",
       "      <td>Imran Nazir</td>\n",
       "      <td>Dhaka Gladiators</td>\n",
       "      <td>field first</td>\n",
       "      <td>Dhaka</td>\n",
       "      <td>Shere Bangla National Stadium, Mirpur</td>\n",
       "      <td>Mirpur</td>\n",
       "      <td>8</td>\n",
       "      <td>0</td>\n",
       "      <td>8 wickets</td>\n",
       "      <td>David Orchard</td>\n",
       "      <td>Enamul Haque</td>\n",
       "    </tr>\n",
       "    <tr>\n",
       "      <th>1</th>\n",
       "      <td>30</td>\n",
       "      <td>2011/12</td>\n",
       "      <td>3rd</td>\n",
       "      <td>Feb 11 2012</td>\n",
       "      <td>Khulna Royal Bengals</td>\n",
       "      <td>175/5</td>\n",
       "      <td>Dhaka Gladiators</td>\n",
       "      <td>156/7</td>\n",
       "      <td>Andre Russell</td>\n",
       "      <td>Khulna Royal Bengals</td>\n",
       "      <td>bat first</td>\n",
       "      <td>Khulna</td>\n",
       "      <td>Shere Bangla National Stadium, Mirpur</td>\n",
       "      <td>Mirpur</td>\n",
       "      <td>0</td>\n",
       "      <td>19</td>\n",
       "      <td>19 runs</td>\n",
       "      <td>Jeremy Lloyds</td>\n",
       "      <td>Sharfuddoula</td>\n",
       "    </tr>\n",
       "    <tr>\n",
       "      <th>2</th>\n",
       "      <td>26</td>\n",
       "      <td>2011/12</td>\n",
       "      <td>7th</td>\n",
       "      <td>Feb 13 2012</td>\n",
       "      <td>Barisal Burners</td>\n",
       "      <td>125</td>\n",
       "      <td>Khulna Royal Bengals</td>\n",
       "      <td>131/3</td>\n",
       "      <td>Dwayne Smith</td>\n",
       "      <td>Khulna Royal Bengals</td>\n",
       "      <td>field first</td>\n",
       "      <td>Khulna</td>\n",
       "      <td>Shere Bangla National Stadium, Mirpur</td>\n",
       "      <td>Mirpur</td>\n",
       "      <td>7</td>\n",
       "      <td>0</td>\n",
       "      <td>7 wickets</td>\n",
       "      <td>Enamul Haque</td>\n",
       "      <td>Jeremy Lloyds</td>\n",
       "    </tr>\n",
       "    <tr>\n",
       "      <th>3</th>\n",
       "      <td>29</td>\n",
       "      <td>2011/12</td>\n",
       "      <td>4th</td>\n",
       "      <td>Feb 11 2012</td>\n",
       "      <td>Barisal Burners</td>\n",
       "      <td>180/2</td>\n",
       "      <td>Duronto Rajshahi</td>\n",
       "      <td>158/9</td>\n",
       "      <td>Ahmed Shehzad</td>\n",
       "      <td>Barisal Burners</td>\n",
       "      <td>bat first</td>\n",
       "      <td>Barisal</td>\n",
       "      <td>Shere Bangla National Stadium, Mirpur</td>\n",
       "      <td>Mirpur</td>\n",
       "      <td>0</td>\n",
       "      <td>22</td>\n",
       "      <td>22 runs</td>\n",
       "      <td>David Orchard</td>\n",
       "      <td>Gazi Sohel</td>\n",
       "    </tr>\n",
       "    <tr>\n",
       "      <th>4</th>\n",
       "      <td>28</td>\n",
       "      <td>2011/12</td>\n",
       "      <td>5th</td>\n",
       "      <td>Feb 12 2012</td>\n",
       "      <td>Khulna Royal Bengals</td>\n",
       "      <td>171/3</td>\n",
       "      <td>Chittagong Kings</td>\n",
       "      <td>174/4</td>\n",
       "      <td>Nasir Jamshed</td>\n",
       "      <td>Khulna Royal Bengals</td>\n",
       "      <td>bat first</td>\n",
       "      <td>Chittagong</td>\n",
       "      <td>Shere Bangla National Stadium, Mirpur</td>\n",
       "      <td>Mirpur</td>\n",
       "      <td>6</td>\n",
       "      <td>0</td>\n",
       "      <td>6 wickets</td>\n",
       "      <td>David Orchard</td>\n",
       "      <td>Enamul Haque</td>\n",
       "    </tr>\n",
       "  </tbody>\n",
       "</table>\n",
       "</div>"
      ],
      "text/plain": [
       "   id   season match_no         date                team_1 team_1_score  \\\n",
       "0   0  2011/12    Final  Feb 29 2012       Barisal Burners        140/7   \n",
       "1  30  2011/12      3rd  Feb 11 2012  Khulna Royal Bengals        175/5   \n",
       "2  26  2011/12      7th  Feb 13 2012       Barisal Burners          125   \n",
       "3  29  2011/12      4th  Feb 11 2012       Barisal Burners        180/2   \n",
       "4  28  2011/12      5th  Feb 12 2012  Khulna Royal Bengals        171/3   \n",
       "\n",
       "                 team_2 team_2_score player_of_match           toss_winner  \\\n",
       "0      Dhaka Gladiators        144/2     Imran Nazir      Dhaka Gladiators   \n",
       "1      Dhaka Gladiators        156/7   Andre Russell  Khulna Royal Bengals   \n",
       "2  Khulna Royal Bengals        131/3    Dwayne Smith  Khulna Royal Bengals   \n",
       "3      Duronto Rajshahi        158/9   Ahmed Shehzad       Barisal Burners   \n",
       "4      Chittagong Kings        174/4   Nasir Jamshed  Khulna Royal Bengals   \n",
       "\n",
       "  toss_decision      winner                                  venue    city  \\\n",
       "0   field first       Dhaka  Shere Bangla National Stadium, Mirpur  Mirpur   \n",
       "1     bat first      Khulna  Shere Bangla National Stadium, Mirpur  Mirpur   \n",
       "2   field first      Khulna  Shere Bangla National Stadium, Mirpur  Mirpur   \n",
       "3     bat first     Barisal  Shere Bangla National Stadium, Mirpur  Mirpur   \n",
       "4     bat first  Chittagong  Shere Bangla National Stadium, Mirpur  Mirpur   \n",
       "\n",
       "   win_by_wickets  win_by_runs     result       umpire_1       umpire_2  \n",
       "0               8            0  8 wickets  David Orchard   Enamul Haque  \n",
       "1               0           19    19 runs  Jeremy Lloyds   Sharfuddoula  \n",
       "2               7            0  7 wickets   Enamul Haque  Jeremy Lloyds  \n",
       "3               0           22    22 runs  David Orchard     Gazi Sohel  \n",
       "4               6            0  6 wickets  David Orchard   Enamul Haque  "
      ]
     },
     "execution_count": 3,
     "metadata": {},
     "output_type": "execute_result"
    }
   ],
   "source": [
    "df.head()"
   ]
  },
  {
   "cell_type": "code",
   "execution_count": 4,
   "id": "e3dbe96e",
   "metadata": {},
   "outputs": [
    {
     "data": {
      "text/plain": [
       "(311, 19)"
      ]
     },
     "execution_count": 4,
     "metadata": {},
     "output_type": "execute_result"
    }
   ],
   "source": [
    "df.shape"
   ]
  },
  {
   "cell_type": "code",
   "execution_count": 5,
   "id": "5806724f",
   "metadata": {},
   "outputs": [
    {
     "name": "stdout",
     "output_type": "stream",
     "text": [
      "<class 'pandas.core.frame.DataFrame'>\n",
      "RangeIndex: 311 entries, 0 to 310\n",
      "Data columns (total 19 columns):\n",
      " #   Column           Non-Null Count  Dtype \n",
      "---  ------           --------------  ----- \n",
      " 0   id               311 non-null    int64 \n",
      " 1   season           311 non-null    object\n",
      " 2   match_no         311 non-null    object\n",
      " 3   date             311 non-null    object\n",
      " 4   team_1           311 non-null    object\n",
      " 5   team_1_score     311 non-null    object\n",
      " 6   team_2           311 non-null    object\n",
      " 7   team_2_score     311 non-null    object\n",
      " 8   player_of_match  311 non-null    object\n",
      " 9   toss_winner      311 non-null    object\n",
      " 10  toss_decision    311 non-null    object\n",
      " 11  winner           311 non-null    object\n",
      " 12  venue            311 non-null    object\n",
      " 13  city             311 non-null    object\n",
      " 14  win_by_wickets   311 non-null    int64 \n",
      " 15  win_by_runs      311 non-null    int64 \n",
      " 16  result           311 non-null    object\n",
      " 17  umpire_1         311 non-null    object\n",
      " 18  umpire_2         311 non-null    object\n",
      "dtypes: int64(3), object(16)\n",
      "memory usage: 46.3+ KB\n"
     ]
    }
   ],
   "source": [
    "df.info()"
   ]
  },
  {
   "cell_type": "code",
   "execution_count": 6,
   "id": "169a69c8",
   "metadata": {},
   "outputs": [
    {
     "data": {
      "text/html": [
       "<div>\n",
       "<style scoped>\n",
       "    .dataframe tbody tr th:only-of-type {\n",
       "        vertical-align: middle;\n",
       "    }\n",
       "\n",
       "    .dataframe tbody tr th {\n",
       "        vertical-align: top;\n",
       "    }\n",
       "\n",
       "    .dataframe thead th {\n",
       "        text-align: right;\n",
       "    }\n",
       "</style>\n",
       "<table border=\"1\" class=\"dataframe\">\n",
       "  <thead>\n",
       "    <tr style=\"text-align: right;\">\n",
       "      <th></th>\n",
       "      <th>id</th>\n",
       "      <th>win_by_wickets</th>\n",
       "      <th>win_by_runs</th>\n",
       "    </tr>\n",
       "  </thead>\n",
       "  <tbody>\n",
       "    <tr>\n",
       "      <th>count</th>\n",
       "      <td>311.000000</td>\n",
       "      <td>311.000000</td>\n",
       "      <td>311.000000</td>\n",
       "    </tr>\n",
       "    <tr>\n",
       "      <th>mean</th>\n",
       "      <td>284.755627</td>\n",
       "      <td>3.186495</td>\n",
       "      <td>15.627010</td>\n",
       "    </tr>\n",
       "    <tr>\n",
       "      <th>std</th>\n",
       "      <td>228.051532</td>\n",
       "      <td>3.449723</td>\n",
       "      <td>24.626548</td>\n",
       "    </tr>\n",
       "    <tr>\n",
       "      <th>min</th>\n",
       "      <td>0.000000</td>\n",
       "      <td>0.000000</td>\n",
       "      <td>0.000000</td>\n",
       "    </tr>\n",
       "    <tr>\n",
       "      <th>25%</th>\n",
       "      <td>57.500000</td>\n",
       "      <td>0.000000</td>\n",
       "      <td>0.000000</td>\n",
       "    </tr>\n",
       "    <tr>\n",
       "      <th>50%</th>\n",
       "      <td>230.000000</td>\n",
       "      <td>2.000000</td>\n",
       "      <td>0.000000</td>\n",
       "    </tr>\n",
       "    <tr>\n",
       "      <th>75%</th>\n",
       "      <td>513.500000</td>\n",
       "      <td>6.000000</td>\n",
       "      <td>23.000000</td>\n",
       "    </tr>\n",
       "    <tr>\n",
       "      <th>max</th>\n",
       "      <td>719.000000</td>\n",
       "      <td>10.000000</td>\n",
       "      <td>119.000000</td>\n",
       "    </tr>\n",
       "  </tbody>\n",
       "</table>\n",
       "</div>"
      ],
      "text/plain": [
       "               id  win_by_wickets  win_by_runs\n",
       "count  311.000000      311.000000   311.000000\n",
       "mean   284.755627        3.186495    15.627010\n",
       "std    228.051532        3.449723    24.626548\n",
       "min      0.000000        0.000000     0.000000\n",
       "25%     57.500000        0.000000     0.000000\n",
       "50%    230.000000        2.000000     0.000000\n",
       "75%    513.500000        6.000000    23.000000\n",
       "max    719.000000       10.000000   119.000000"
      ]
     },
     "execution_count": 6,
     "metadata": {},
     "output_type": "execute_result"
    }
   ],
   "source": [
    "df.describe()"
   ]
  },
  {
   "cell_type": "markdown",
   "id": "b7c07763",
   "metadata": {},
   "source": [
    "# Processing the Data to Analyze"
   ]
  },
  {
   "cell_type": "markdown",
   "id": "71226f0c",
   "metadata": {},
   "source": [
    "# Data Cleaning and Processing"
   ]
  },
  {
   "cell_type": "markdown",
   "id": "931b4c7f",
   "metadata": {},
   "source": [
    "Drop Unnecessary Columns"
   ]
  },
  {
   "cell_type": "code",
   "execution_count": 7,
   "id": "c887d46b",
   "metadata": {},
   "outputs": [
    {
     "data": {
      "text/plain": [
       "Index(['id', 'season', 'match_no', 'date', 'team_1', 'team_1_score', 'team_2',\n",
       "       'team_2_score', 'player_of_match', 'toss_winner', 'toss_decision',\n",
       "       'winner', 'venue', 'city', 'win_by_wickets', 'win_by_runs', 'result',\n",
       "       'umpire_1', 'umpire_2'],\n",
       "      dtype='object')"
      ]
     },
     "execution_count": 7,
     "metadata": {},
     "output_type": "execute_result"
    }
   ],
   "source": [
    "df.columns"
   ]
  },
  {
   "cell_type": "code",
   "execution_count": 8,
   "id": "d0c03d13",
   "metadata": {},
   "outputs": [],
   "source": [
    "df=df.drop([\"id\",\"match_no\"],axis=1)"
   ]
  },
  {
   "cell_type": "code",
   "execution_count": 9,
   "id": "687184ee",
   "metadata": {},
   "outputs": [
    {
     "data": {
      "text/plain": [
       "season             0\n",
       "date               0\n",
       "team_1             0\n",
       "team_1_score       0\n",
       "team_2             0\n",
       "team_2_score       0\n",
       "player_of_match    0\n",
       "toss_winner        0\n",
       "toss_decision      0\n",
       "winner             0\n",
       "venue              0\n",
       "city               0\n",
       "win_by_wickets     0\n",
       "win_by_runs        0\n",
       "result             0\n",
       "umpire_1           0\n",
       "umpire_2           0\n",
       "dtype: int64"
      ]
     },
     "execution_count": 9,
     "metadata": {},
     "output_type": "execute_result"
    }
   ],
   "source": [
    "df.isnull().sum()"
   ]
  },
  {
   "cell_type": "code",
   "execution_count": 10,
   "id": "addb3a26",
   "metadata": {},
   "outputs": [
    {
     "data": {
      "text/plain": [
       "season             False\n",
       "date               False\n",
       "team_1             False\n",
       "team_1_score       False\n",
       "team_2             False\n",
       "team_2_score       False\n",
       "player_of_match    False\n",
       "toss_winner        False\n",
       "toss_decision      False\n",
       "winner             False\n",
       "venue              False\n",
       "city               False\n",
       "win_by_wickets     False\n",
       "win_by_runs        False\n",
       "result             False\n",
       "umpire_1           False\n",
       "umpire_2           False\n",
       "dtype: bool"
      ]
     },
     "execution_count": 10,
     "metadata": {},
     "output_type": "execute_result"
    }
   ],
   "source": [
    "df.isna().any()"
   ]
  },
  {
   "cell_type": "code",
   "execution_count": 11,
   "id": "b6637700",
   "metadata": {},
   "outputs": [
    {
     "name": "stdout",
     "output_type": "stream",
     "text": [
      "----------------------------------------\n",
      "Column Name Is season\n",
      "----------------------------------------\n",
      "2016/17    46\n",
      "2012/13    46\n",
      "2018/19    46\n",
      "2019/20    46\n",
      "2017/18    44\n",
      "2015/16    33\n",
      "2011/12    32\n",
      "2021/22    18\n",
      "Name: season, dtype: int64\n",
      "----------------------------------------\n",
      "Column Name Is date\n",
      "----------------------------------------\n",
      "Dec 23 2019    2\n",
      "Nov 20 2017    2\n",
      " Nov 7 2017    2\n",
      " Nov 8 2017    2\n",
      "Nov 11 2017    2\n",
      "              ..\n",
      " Dec 1 2016    1\n",
      "Nov 28 2016    1\n",
      " Dec 7 2016    1\n",
      "0 - 11 2017    1\n",
      "Feb 29 2012    1\n",
      "Name: date, Length: 166, dtype: int64\n",
      "----------------------------------------\n",
      "Column Name Is team_1\n",
      "----------------------------------------\n",
      "Chittagong Vikings        28\n",
      "Dhaka Dynamites           28\n",
      "Rangpur Riders            27\n",
      "Khulna Titans             24\n",
      "Comilla Victorians        23\n",
      "Rajshahi Kings            16\n",
      "Dhaka Gladiators          15\n",
      "Sylhet Sixers             15\n",
      "Khulna Royal Bengals      14\n",
      "Barisal Bulls             14\n",
      "Chattogram Challengers    13\n",
      "Chittagong Kings          12\n",
      "Barisal Burners           11\n",
      "Duronto Rajshahi          10\n",
      "Sylhet Royals             10\n",
      "Sylhet Thunder             9\n",
      "Dhaka Platoon              9\n",
      "Rangpur Rangers            6\n",
      "Khulna Tigers              6\n",
      "Rajshahi Royals            5\n",
      "Cumilla Warriors           4\n",
      "Fortune Barishal           4\n",
      "Minister Group Dhaka       3\n",
      "Sylhet Sunrisers           3\n",
      "Sylhet Super Stars         2\n",
      "Name: team_1, dtype: int64\n",
      "----------------------------------------\n",
      "Column Name Is team_1_score\n",
      "----------------------------------------\n",
      "170/4    3\n",
      "153/6    3\n",
      "157/5    3\n",
      "142      3\n",
      "129/8    3\n",
      "        ..\n",
      "108      1\n",
      "89       1\n",
      "109/9    1\n",
      "92       1\n",
      "191/4    1\n",
      "Name: team_1_score, Length: 258, dtype: int64\n",
      "----------------------------------------\n",
      "Column Name Is team_2\n",
      "----------------------------------------\n",
      "Rangpur Riders            38\n",
      "Comilla Victorians        34\n",
      "Dhaka Dynamites           24\n",
      "Rajshahi Kings            23\n",
      "Chittagong Vikings        19\n",
      "Khulna Titans             14\n",
      "Duronto Rajshahi          14\n",
      "Khulna Tigers             14\n",
      "Chittagong Kings          13\n",
      "Barisal Burners           13\n",
      "Sylhet Royals             13\n",
      "Dhaka Gladiators          11\n",
      "Rajshahi Royals           10\n",
      "Barisal Bulls             10\n",
      "Chattogram Challengers     9\n",
      "Khulna Royal Bengals       8\n",
      "Sylhet Sixers              8\n",
      "Sylhet Super Stars         8\n",
      "Cumilla Warriors           8\n",
      "Rangpur Rangers            6\n",
      "Dhaka Platoon              4\n",
      "Sylhet Thunder             3\n",
      "Minister Group Dhaka       3\n",
      "Fortune Barishal           2\n",
      "Sylhet Sunrisers           2\n",
      "Name: team_2, dtype: int64\n",
      "----------------------------------------\n",
      "Column Name Is team_2_score\n",
      "----------------------------------------\n",
      "131      4\n",
      "129      4\n",
      "130/6    4\n",
      "142/5    3\n",
      "103      3\n",
      "        ..\n",
      "96/4     1\n",
      "84/1     1\n",
      "168/6    1\n",
      "113/1    1\n",
      "182/7    1\n",
      "Name: team_2_score, Length: 260, dtype: int64\n",
      "----------------------------------------\n",
      "Column Name Is player_of_match\n",
      "----------------------------------------\n",
      "Shakib Al Hasan         11\n",
      "Mahmudullah              9\n",
      "Shahid Afridi            7\n",
      "Ravi Bopara              7\n",
      "Mushfiqur Rahim          7\n",
      "                        ..\n",
      "Danushka Gunathilaka     1\n",
      "Abu Jayed                1\n",
      "Rubel Hossain            1\n",
      "Sikandar Raza            1\n",
      "Mohammad Sami            1\n",
      "Name: player_of_match, Length: 135, dtype: int64\n",
      "----------------------------------------\n",
      "Column Name Is toss_winner\n",
      "----------------------------------------\n",
      "Rangpur Riders            34\n",
      "Comilla Victorians        27\n",
      "Dhaka Dynamites           25\n",
      "Rajshahi Kings            22\n",
      "Khulna Titans             21\n",
      "Chittagong Vikings        21\n",
      "Dhaka Gladiators          15\n",
      "Barisal Burners           13\n",
      "Khulna Tigers             13\n",
      "Khulna Royal Bengals      12\n",
      "Sylhet Royals             12\n",
      "Sylhet Sixers             11\n",
      "Barisal Bulls             11\n",
      "Duronto Rajshahi          11\n",
      "Chittagong Kings          10\n",
      "Rajshahi Royals            9\n",
      "Chattogram Challengers     8\n",
      "Cumilla Warriors           8\n",
      "Rangpur Rangers            6\n",
      "Sylhet Super Stars         5\n",
      "Sylhet Thunder             5\n",
      "Fortune Barishal           4\n",
      "Dhaka Platoon              3\n",
      "Minister Group Dhaka       3\n",
      "Sylhet Sunrisers           2\n",
      "Name: toss_winner, dtype: int64\n",
      "----------------------------------------\n",
      "Column Name Is toss_decision\n",
      "----------------------------------------\n",
      "field first    208\n",
      "bat first      103\n",
      "Name: toss_decision, dtype: int64\n",
      "----------------------------------------\n",
      "Column Name Is winner\n",
      "----------------------------------------\n",
      "Victorians     37\n",
      "Riders         35\n",
      "Dynamites      30\n",
      "Dhaka          21\n",
      "Royals         21\n",
      "Kings          18\n",
      "Vikings        17\n",
      "Titans         16\n",
      "Chittagong     13\n",
      "Challengers    12\n",
      "Rajshahi       12\n",
      "Bulls          12\n",
      "Tigers         12\n",
      "Barisal        11\n",
      "Sixers          9\n",
      "Khulna          8\n",
      "Platoon         7\n",
      "Rangers         5\n",
      "Warriors        4\n",
      "Barishal        4\n",
      "Super           3\n",
      "Match           2\n",
      "Thunder         1\n",
      "Sunrisers       1\n",
      "Name: winner, dtype: int64\n",
      "----------------------------------------\n",
      "Column Name Is venue\n",
      "----------------------------------------\n",
      "Shere Bangla National Stadium, Mirpur        204\n",
      "Zahur Ahmed Chowdhury Stadium, Chittagong     37\n",
      "Zahur Ahmed Chowdhury Stadium, Chattogram     30\n",
      "Sylhet International Cricket Stadium          22\n",
      "MA Aziz Stadium, Chittagong                   10\n",
      "Sheikh Abu Naser Stadium, Khulna               8\n",
      "Name: venue, dtype: int64\n",
      "----------------------------------------\n",
      "Column Name Is city\n",
      "----------------------------------------\n",
      "Mirpur        204\n",
      "Chittagong     47\n",
      "Chattogram     30\n",
      "Stadium        22\n",
      "Khulna          8\n",
      "Name: city, dtype: int64\n",
      "----------------------------------------\n",
      "Column Name Is win_by_wickets\n",
      "----------------------------------------\n",
      "0     154\n",
      "6      34\n",
      "8      28\n",
      "7      24\n",
      "9      19\n",
      "5      18\n",
      "4      16\n",
      "3      10\n",
      "2       5\n",
      "10      3\n",
      "Name: win_by_wickets, dtype: int64\n",
      "----------------------------------------\n",
      "Column Name Is win_by_runs\n",
      "----------------------------------------\n",
      "0     166\n",
      "33      7\n",
      "9       6\n",
      "19      5\n",
      "21      5\n",
      "     ... \n",
      "83      1\n",
      "49      1\n",
      "42      1\n",
      "53      1\n",
      "44      1\n",
      "Name: win_by_runs, Length: 69, dtype: int64\n",
      "----------------------------------------\n",
      "Column Name Is result\n",
      "----------------------------------------\n",
      "6 wickets    34\n",
      "8 wickets    28\n",
      "7 wickets    24\n",
      "9 wickets    19\n",
      "5 wickets    18\n",
      "             ..\n",
      "71 runs       1\n",
      "24 runs       1\n",
      "15 runs       1\n",
      "74 runs       1\n",
      "44 runs       1\n",
      "Name: result, Length: 83, dtype: int64\n",
      "----------------------------------------\n",
      "Column Name Is umpire_1\n",
      "----------------------------------------\n",
      "Mahfuzur Rahman           41\n",
      "Masudur Rahman            31\n",
      "Enamul Haque              29\n",
      "Anisur Rahman             26\n",
      "Gazi Sohel                22\n",
      "Nadir Shah                21\n",
      "Alex Wharf                19\n",
      "David Millns              18\n",
      "Khalid Mahmood            16\n",
      "David Orchard             15\n",
      "Jeremy Lloyds             14\n",
      "Morshed Ali Khan          10\n",
      "Ranmore Martinesz          9\n",
      "Prageeth Rambukwella       8\n",
      "Ahsan Raza                 7\n",
      "Sharfuddoula               6\n",
      "Riazuddin                  3\n",
      "Khalid Mahmud              2\n",
      "D Milns                    2\n",
      "Akteruzzaman               2\n",
      "Abdul Mazid                1\n",
      "Shozab Raza                1\n",
      "Minhajul Abedin Afridi     1\n",
      "Habibur Rahman             1\n",
      "Nahidul Islam              1\n",
      "Dawid Malan                1\n",
      "Moniruzzaman               1\n",
      "Nayeem Hasan               1\n",
      "Bishawnath Halder          1\n",
      "Amit Kumar                 1\n",
      "Name: umpire_1, dtype: int64\n",
      "----------------------------------------\n",
      "Column Name Is umpire_2\n",
      "----------------------------------------\n",
      "Ranmore Martinesz        50\n",
      "Sharfuddoula             39\n",
      "Tanvir Ahmed             36\n",
      "Masudur Rahman           32\n",
      "Jeremy Lloyds            19\n",
      "Riazuddin                18\n",
      "Prageeth Rambukwella     18\n",
      "Nadir Shah               16\n",
      "Mahfuzur Rahman          16\n",
      "Richard Illingworth      14\n",
      "Morshed Ali Khan         12\n",
      "Gazi Sohel               12\n",
      "Shozab Raza               6\n",
      "Enamul Haque              6\n",
      "Rashid Riaz               3\n",
      "Khalid Mahmood            2\n",
      "Shohidul Islam            1\n",
      "Mehidy Hasan Miraz        1\n",
      "Sanjit Saha               1\n",
      "Najmul Hossain Shanto     1\n",
      "Afif Hossain              1\n",
      "David Orchard             1\n",
      "Shafiuddin Ahmed          1\n",
      "Qazi Onik                 1\n",
      "Moniruzzaman              1\n",
      "Raveendra Wimalasiri      1\n",
      "Jubair Ahmed              1\n",
      "Mehedi Maruf              1\n",
      "Name: umpire_2, dtype: int64\n"
     ]
    }
   ],
   "source": [
    "for col in df.columns.tolist():\n",
    "    print(\"-\" * 40)\n",
    "    print(\"Column Name Is\",col)\n",
    "    print(\"-\" * 40)\n",
    "    print(df[col].value_counts())  "
   ]
  },
  {
   "cell_type": "code",
   "execution_count": 12,
   "id": "1ee82111",
   "metadata": {},
   "outputs": [],
   "source": [
    "teams = {\n",
    "    \"Dhaka\": ['Dhaka Dynamites', 'Dhaka Platoon', 'Minister Group Dhaka', 'Dhaka Gladiators'], \n",
    "    \"Chittagong\": ['Chattogram Challengers', 'Chittagong Vikings', 'Chittagong Kings'],\n",
    "    \"Barishal\": ['Fortune Barishal', 'Barisal Burners', 'Barisal', 'Barishal', 'Barisal Bulls'],\n",
    "    \"Sylhet\": ['Sylhet Sunrisers', 'Sylhet Royals', 'Sylhet Sixers', 'Sylhet Super Stars', 'Sylhet Thunder'],\n",
    "    \"Rajshahi\": ['Rajshahi Kings', 'Rajshahi Royals', 'Duronto Rajshahi'],\n",
    "    \"Comilla\": ['Comilla Victorians', 'Cumilla Warriors'],\n",
    "    \"Khulna\": ['Khulna Titans', 'Khulna Royal Bengals', 'Khulna Tigers'],\n",
    "    \"Rangpur\": ['Rangpur Rangers', 'Rangpur Riders','Match']    \n",
    "}\n"
   ]
  },
  {
   "cell_type": "code",
   "execution_count": 13,
   "id": "3140beee",
   "metadata": {},
   "outputs": [
    {
     "data": {
      "text/plain": [
       "array(['Dhaka', 'Khulna', 'Barisal', 'Chittagong', 'Rajshahi', 'Vikings',\n",
       "       'Dynamites', 'Titans', 'Riders', 'Bulls', 'Kings', 'Victorians',\n",
       "       'Sixers', 'Match', 'Super', 'Challengers', 'Warriors', 'Royals',\n",
       "       'Platoon', 'Tigers', 'Thunder', 'Rangers', 'Barishal', 'Sunrisers'],\n",
       "      dtype=object)"
      ]
     },
     "execution_count": 13,
     "metadata": {},
     "output_type": "execute_result"
    }
   ],
   "source": [
    "df[\"winner\"].unique()"
   ]
  },
  {
   "cell_type": "code",
   "execution_count": 14,
   "id": "68adf24a",
   "metadata": {},
   "outputs": [],
   "source": [
    "for keys, values in teams.items():\n",
    "    for name in values:\n",
    "        df['team_1'].replace(name, keys, inplace=True)\n",
    "        df['team_2'].replace(name, keys, inplace=True)\n",
    "        df['toss_winner'].replace(name, keys, inplace=True)\n",
    "        for n in name.split(' '):\n",
    "            df['winner'].replace(n, keys, inplace=True)"
   ]
  },
  {
   "cell_type": "code",
   "execution_count": 15,
   "id": "11f0d431",
   "metadata": {},
   "outputs": [
    {
     "data": {
      "text/plain": [
       "Dhaka         55\n",
       "Chittagong    53\n",
       "Khulna        44\n",
       "Sylhet        39\n",
       "Rangpur       33\n",
       "Rajshahi      31\n",
       "Barishal      29\n",
       "Comilla       27\n",
       "Name: team_1, dtype: int64"
      ]
     },
     "execution_count": 15,
     "metadata": {},
     "output_type": "execute_result"
    }
   ],
   "source": [
    "df[\"team_1\"].value_counts() "
   ]
  },
  {
   "cell_type": "code",
   "execution_count": 16,
   "id": "c5696f68",
   "metadata": {},
   "outputs": [
    {
     "data": {
      "text/plain": [
       "Rajshahi      47\n",
       "Rangpur       44\n",
       "Dhaka         42\n",
       "Comilla       42\n",
       "Chittagong    41\n",
       "Khulna        36\n",
       "Sylhet        34\n",
       "Barishal      25\n",
       "Name: team_2, dtype: int64"
      ]
     },
     "execution_count": 16,
     "metadata": {},
     "output_type": "execute_result"
    }
   ],
   "source": [
    "df['team_2'].value_counts()"
   ]
  },
  {
   "cell_type": "code",
   "execution_count": 17,
   "id": "aff8cff4",
   "metadata": {},
   "outputs": [
    {
     "data": {
      "text/plain": [
       "Dhaka         46\n",
       "Khulna        46\n",
       "Rajshahi      42\n",
       "Rangpur       40\n",
       "Chittagong    39\n",
       "Sylhet        35\n",
       "Comilla       35\n",
       "Barishal      28\n",
       "Name: toss_winner, dtype: int64"
      ]
     },
     "execution_count": 17,
     "metadata": {},
     "output_type": "execute_result"
    }
   ],
   "source": [
    "df['toss_winner'].value_counts()"
   ]
  },
  {
   "cell_type": "code",
   "execution_count": 18,
   "id": "77eedefc",
   "metadata": {},
   "outputs": [
    {
     "data": {
      "text/plain": [
       "Chittagong    60\n",
       "Dhaka         58\n",
       "Rangpur       42\n",
       "Comilla       41\n",
       "Khulna        36\n",
       "Sylhet        35\n",
       "Barishal      27\n",
       "Rajshahi      12\n",
       "Name: winner, dtype: int64"
      ]
     },
     "execution_count": 18,
     "metadata": {},
     "output_type": "execute_result"
    }
   ],
   "source": [
    "df['winner'].value_counts()"
   ]
  },
  {
   "cell_type": "code",
   "execution_count": 19,
   "id": "2f84871a",
   "metadata": {},
   "outputs": [],
   "source": [
    "# for row in df['winner']:\n",
    "#     if row =='Match':\n",
    "#         i = df[((df.winner == 'Match'))].index\n",
    "#         df=df.drop(i)"
   ]
  },
  {
   "cell_type": "code",
   "execution_count": 20,
   "id": "83785ce8",
   "metadata": {},
   "outputs": [
    {
     "data": {
      "text/plain": [
       "Chittagong    60\n",
       "Dhaka         58\n",
       "Rangpur       42\n",
       "Comilla       41\n",
       "Khulna        36\n",
       "Sylhet        35\n",
       "Barishal      27\n",
       "Rajshahi      12\n",
       "Name: winner, dtype: int64"
      ]
     },
     "execution_count": 20,
     "metadata": {},
     "output_type": "execute_result"
    }
   ],
   "source": [
    "df['winner'].value_counts()"
   ]
  },
  {
   "cell_type": "code",
   "execution_count": 21,
   "id": "75a73f1e",
   "metadata": {},
   "outputs": [
    {
     "data": {
      "text/plain": [
       "(311, 17)"
      ]
     },
     "execution_count": 21,
     "metadata": {},
     "output_type": "execute_result"
    }
   ],
   "source": [
    "df.shape"
   ]
  },
  {
   "cell_type": "code",
   "execution_count": 22,
   "id": "f13cd5b3",
   "metadata": {},
   "outputs": [],
   "source": [
    "df[['team_1_run','team_1_wicket']] = df.team_1_score.str.split('/',expand=True)\n",
    "df[\"team_1_wicket\"].fillna(0, inplace = True)\n",
    "df['team_1_wicket'] = pd.to_numeric(df['team_1_wicket'])\n",
    "df['team_1_run'] = pd.to_numeric(df['team_1_run'])\n",
    "\n",
    "\n",
    "df[['team_2_run','team_2_wicket']] = df.team_2_score.str.split('/',expand=True)\n",
    "df[\"team_2_wicket\"].fillna(0, inplace = True)\n",
    "df['team_2_wicket'] = pd.to_numeric(df['team_2_wicket'])\n",
    "df['team_2_run'] = pd.to_numeric(df['team_2_run'])"
   ]
  },
  {
   "cell_type": "code",
   "execution_count": 23,
   "id": "a5f5ba53",
   "metadata": {},
   "outputs": [
    {
     "data": {
      "text/html": [
       "<div>\n",
       "<style scoped>\n",
       "    .dataframe tbody tr th:only-of-type {\n",
       "        vertical-align: middle;\n",
       "    }\n",
       "\n",
       "    .dataframe tbody tr th {\n",
       "        vertical-align: top;\n",
       "    }\n",
       "\n",
       "    .dataframe thead th {\n",
       "        text-align: right;\n",
       "    }\n",
       "</style>\n",
       "<table border=\"1\" class=\"dataframe\">\n",
       "  <thead>\n",
       "    <tr style=\"text-align: right;\">\n",
       "      <th></th>\n",
       "      <th>season</th>\n",
       "      <th>date</th>\n",
       "      <th>team_1</th>\n",
       "      <th>team_1_score</th>\n",
       "      <th>team_2</th>\n",
       "      <th>team_2_score</th>\n",
       "      <th>player_of_match</th>\n",
       "      <th>toss_winner</th>\n",
       "      <th>toss_decision</th>\n",
       "      <th>winner</th>\n",
       "      <th>...</th>\n",
       "      <th>city</th>\n",
       "      <th>win_by_wickets</th>\n",
       "      <th>win_by_runs</th>\n",
       "      <th>result</th>\n",
       "      <th>umpire_1</th>\n",
       "      <th>umpire_2</th>\n",
       "      <th>team_1_run</th>\n",
       "      <th>team_1_wicket</th>\n",
       "      <th>team_2_run</th>\n",
       "      <th>team_2_wicket</th>\n",
       "    </tr>\n",
       "  </thead>\n",
       "  <tbody>\n",
       "    <tr>\n",
       "      <th>0</th>\n",
       "      <td>2011/12</td>\n",
       "      <td>Feb 29 2012</td>\n",
       "      <td>Barishal</td>\n",
       "      <td>140/7</td>\n",
       "      <td>Dhaka</td>\n",
       "      <td>144/2</td>\n",
       "      <td>Imran Nazir</td>\n",
       "      <td>Dhaka</td>\n",
       "      <td>field first</td>\n",
       "      <td>Dhaka</td>\n",
       "      <td>...</td>\n",
       "      <td>Mirpur</td>\n",
       "      <td>8</td>\n",
       "      <td>0</td>\n",
       "      <td>8 wickets</td>\n",
       "      <td>David Orchard</td>\n",
       "      <td>Enamul Haque</td>\n",
       "      <td>140</td>\n",
       "      <td>7</td>\n",
       "      <td>144</td>\n",
       "      <td>2</td>\n",
       "    </tr>\n",
       "    <tr>\n",
       "      <th>1</th>\n",
       "      <td>2011/12</td>\n",
       "      <td>Feb 11 2012</td>\n",
       "      <td>Khulna</td>\n",
       "      <td>175/5</td>\n",
       "      <td>Dhaka</td>\n",
       "      <td>156/7</td>\n",
       "      <td>Andre Russell</td>\n",
       "      <td>Khulna</td>\n",
       "      <td>bat first</td>\n",
       "      <td>Khulna</td>\n",
       "      <td>...</td>\n",
       "      <td>Mirpur</td>\n",
       "      <td>0</td>\n",
       "      <td>19</td>\n",
       "      <td>19 runs</td>\n",
       "      <td>Jeremy Lloyds</td>\n",
       "      <td>Sharfuddoula</td>\n",
       "      <td>175</td>\n",
       "      <td>5</td>\n",
       "      <td>156</td>\n",
       "      <td>7</td>\n",
       "    </tr>\n",
       "    <tr>\n",
       "      <th>2</th>\n",
       "      <td>2011/12</td>\n",
       "      <td>Feb 13 2012</td>\n",
       "      <td>Barishal</td>\n",
       "      <td>125</td>\n",
       "      <td>Khulna</td>\n",
       "      <td>131/3</td>\n",
       "      <td>Dwayne Smith</td>\n",
       "      <td>Khulna</td>\n",
       "      <td>field first</td>\n",
       "      <td>Khulna</td>\n",
       "      <td>...</td>\n",
       "      <td>Mirpur</td>\n",
       "      <td>7</td>\n",
       "      <td>0</td>\n",
       "      <td>7 wickets</td>\n",
       "      <td>Enamul Haque</td>\n",
       "      <td>Jeremy Lloyds</td>\n",
       "      <td>125</td>\n",
       "      <td>0</td>\n",
       "      <td>131</td>\n",
       "      <td>3</td>\n",
       "    </tr>\n",
       "    <tr>\n",
       "      <th>3</th>\n",
       "      <td>2011/12</td>\n",
       "      <td>Feb 11 2012</td>\n",
       "      <td>Barishal</td>\n",
       "      <td>180/2</td>\n",
       "      <td>Rajshahi</td>\n",
       "      <td>158/9</td>\n",
       "      <td>Ahmed Shehzad</td>\n",
       "      <td>Barishal</td>\n",
       "      <td>bat first</td>\n",
       "      <td>Barishal</td>\n",
       "      <td>...</td>\n",
       "      <td>Mirpur</td>\n",
       "      <td>0</td>\n",
       "      <td>22</td>\n",
       "      <td>22 runs</td>\n",
       "      <td>David Orchard</td>\n",
       "      <td>Gazi Sohel</td>\n",
       "      <td>180</td>\n",
       "      <td>2</td>\n",
       "      <td>158</td>\n",
       "      <td>9</td>\n",
       "    </tr>\n",
       "    <tr>\n",
       "      <th>4</th>\n",
       "      <td>2011/12</td>\n",
       "      <td>Feb 12 2012</td>\n",
       "      <td>Khulna</td>\n",
       "      <td>171/3</td>\n",
       "      <td>Chittagong</td>\n",
       "      <td>174/4</td>\n",
       "      <td>Nasir Jamshed</td>\n",
       "      <td>Khulna</td>\n",
       "      <td>bat first</td>\n",
       "      <td>Chittagong</td>\n",
       "      <td>...</td>\n",
       "      <td>Mirpur</td>\n",
       "      <td>6</td>\n",
       "      <td>0</td>\n",
       "      <td>6 wickets</td>\n",
       "      <td>David Orchard</td>\n",
       "      <td>Enamul Haque</td>\n",
       "      <td>171</td>\n",
       "      <td>3</td>\n",
       "      <td>174</td>\n",
       "      <td>4</td>\n",
       "    </tr>\n",
       "  </tbody>\n",
       "</table>\n",
       "<p>5 rows × 21 columns</p>\n",
       "</div>"
      ],
      "text/plain": [
       "    season         date    team_1 team_1_score      team_2 team_2_score  \\\n",
       "0  2011/12  Feb 29 2012  Barishal        140/7       Dhaka        144/2   \n",
       "1  2011/12  Feb 11 2012    Khulna        175/5       Dhaka        156/7   \n",
       "2  2011/12  Feb 13 2012  Barishal          125      Khulna        131/3   \n",
       "3  2011/12  Feb 11 2012  Barishal        180/2    Rajshahi        158/9   \n",
       "4  2011/12  Feb 12 2012    Khulna        171/3  Chittagong        174/4   \n",
       "\n",
       "  player_of_match toss_winner toss_decision      winner  ...    city  \\\n",
       "0     Imran Nazir       Dhaka   field first       Dhaka  ...  Mirpur   \n",
       "1   Andre Russell      Khulna     bat first      Khulna  ...  Mirpur   \n",
       "2    Dwayne Smith      Khulna   field first      Khulna  ...  Mirpur   \n",
       "3   Ahmed Shehzad    Barishal     bat first    Barishal  ...  Mirpur   \n",
       "4   Nasir Jamshed      Khulna     bat first  Chittagong  ...  Mirpur   \n",
       "\n",
       "  win_by_wickets  win_by_runs     result       umpire_1       umpire_2  \\\n",
       "0              8            0  8 wickets  David Orchard   Enamul Haque   \n",
       "1              0           19    19 runs  Jeremy Lloyds   Sharfuddoula   \n",
       "2              7            0  7 wickets   Enamul Haque  Jeremy Lloyds   \n",
       "3              0           22    22 runs  David Orchard     Gazi Sohel   \n",
       "4              6            0  6 wickets  David Orchard   Enamul Haque   \n",
       "\n",
       "  team_1_run  team_1_wicket  team_2_run  team_2_wicket  \n",
       "0        140              7         144              2  \n",
       "1        175              5         156              7  \n",
       "2        125              0         131              3  \n",
       "3        180              2         158              9  \n",
       "4        171              3         174              4  \n",
       "\n",
       "[5 rows x 21 columns]"
      ]
     },
     "execution_count": 23,
     "metadata": {},
     "output_type": "execute_result"
    }
   ],
   "source": [
    "df.head()"
   ]
  },
  {
   "cell_type": "code",
   "execution_count": 24,
   "id": "91db81ff",
   "metadata": {},
   "outputs": [],
   "source": [
    "df.drop('team_1_score', axis=1, inplace=True)\n",
    "df.drop('team_2_score', axis=1, inplace=True)"
   ]
  },
  {
   "cell_type": "code",
   "execution_count": 25,
   "id": "27c4aeba",
   "metadata": {},
   "outputs": [
    {
     "data": {
      "text/html": [
       "<div>\n",
       "<style scoped>\n",
       "    .dataframe tbody tr th:only-of-type {\n",
       "        vertical-align: middle;\n",
       "    }\n",
       "\n",
       "    .dataframe tbody tr th {\n",
       "        vertical-align: top;\n",
       "    }\n",
       "\n",
       "    .dataframe thead th {\n",
       "        text-align: right;\n",
       "    }\n",
       "</style>\n",
       "<table border=\"1\" class=\"dataframe\">\n",
       "  <thead>\n",
       "    <tr style=\"text-align: right;\">\n",
       "      <th></th>\n",
       "      <th>season</th>\n",
       "      <th>date</th>\n",
       "      <th>team_1</th>\n",
       "      <th>team_2</th>\n",
       "      <th>player_of_match</th>\n",
       "      <th>toss_winner</th>\n",
       "      <th>toss_decision</th>\n",
       "      <th>winner</th>\n",
       "      <th>venue</th>\n",
       "      <th>city</th>\n",
       "      <th>win_by_wickets</th>\n",
       "      <th>win_by_runs</th>\n",
       "      <th>result</th>\n",
       "      <th>umpire_1</th>\n",
       "      <th>umpire_2</th>\n",
       "      <th>team_1_run</th>\n",
       "      <th>team_1_wicket</th>\n",
       "      <th>team_2_run</th>\n",
       "      <th>team_2_wicket</th>\n",
       "    </tr>\n",
       "  </thead>\n",
       "  <tbody>\n",
       "    <tr>\n",
       "      <th>0</th>\n",
       "      <td>2011/12</td>\n",
       "      <td>Feb 29 2012</td>\n",
       "      <td>Barishal</td>\n",
       "      <td>Dhaka</td>\n",
       "      <td>Imran Nazir</td>\n",
       "      <td>Dhaka</td>\n",
       "      <td>field first</td>\n",
       "      <td>Dhaka</td>\n",
       "      <td>Shere Bangla National Stadium, Mirpur</td>\n",
       "      <td>Mirpur</td>\n",
       "      <td>8</td>\n",
       "      <td>0</td>\n",
       "      <td>8 wickets</td>\n",
       "      <td>David Orchard</td>\n",
       "      <td>Enamul Haque</td>\n",
       "      <td>140</td>\n",
       "      <td>7</td>\n",
       "      <td>144</td>\n",
       "      <td>2</td>\n",
       "    </tr>\n",
       "    <tr>\n",
       "      <th>1</th>\n",
       "      <td>2011/12</td>\n",
       "      <td>Feb 11 2012</td>\n",
       "      <td>Khulna</td>\n",
       "      <td>Dhaka</td>\n",
       "      <td>Andre Russell</td>\n",
       "      <td>Khulna</td>\n",
       "      <td>bat first</td>\n",
       "      <td>Khulna</td>\n",
       "      <td>Shere Bangla National Stadium, Mirpur</td>\n",
       "      <td>Mirpur</td>\n",
       "      <td>0</td>\n",
       "      <td>19</td>\n",
       "      <td>19 runs</td>\n",
       "      <td>Jeremy Lloyds</td>\n",
       "      <td>Sharfuddoula</td>\n",
       "      <td>175</td>\n",
       "      <td>5</td>\n",
       "      <td>156</td>\n",
       "      <td>7</td>\n",
       "    </tr>\n",
       "    <tr>\n",
       "      <th>2</th>\n",
       "      <td>2011/12</td>\n",
       "      <td>Feb 13 2012</td>\n",
       "      <td>Barishal</td>\n",
       "      <td>Khulna</td>\n",
       "      <td>Dwayne Smith</td>\n",
       "      <td>Khulna</td>\n",
       "      <td>field first</td>\n",
       "      <td>Khulna</td>\n",
       "      <td>Shere Bangla National Stadium, Mirpur</td>\n",
       "      <td>Mirpur</td>\n",
       "      <td>7</td>\n",
       "      <td>0</td>\n",
       "      <td>7 wickets</td>\n",
       "      <td>Enamul Haque</td>\n",
       "      <td>Jeremy Lloyds</td>\n",
       "      <td>125</td>\n",
       "      <td>0</td>\n",
       "      <td>131</td>\n",
       "      <td>3</td>\n",
       "    </tr>\n",
       "    <tr>\n",
       "      <th>3</th>\n",
       "      <td>2011/12</td>\n",
       "      <td>Feb 11 2012</td>\n",
       "      <td>Barishal</td>\n",
       "      <td>Rajshahi</td>\n",
       "      <td>Ahmed Shehzad</td>\n",
       "      <td>Barishal</td>\n",
       "      <td>bat first</td>\n",
       "      <td>Barishal</td>\n",
       "      <td>Shere Bangla National Stadium, Mirpur</td>\n",
       "      <td>Mirpur</td>\n",
       "      <td>0</td>\n",
       "      <td>22</td>\n",
       "      <td>22 runs</td>\n",
       "      <td>David Orchard</td>\n",
       "      <td>Gazi Sohel</td>\n",
       "      <td>180</td>\n",
       "      <td>2</td>\n",
       "      <td>158</td>\n",
       "      <td>9</td>\n",
       "    </tr>\n",
       "    <tr>\n",
       "      <th>4</th>\n",
       "      <td>2011/12</td>\n",
       "      <td>Feb 12 2012</td>\n",
       "      <td>Khulna</td>\n",
       "      <td>Chittagong</td>\n",
       "      <td>Nasir Jamshed</td>\n",
       "      <td>Khulna</td>\n",
       "      <td>bat first</td>\n",
       "      <td>Chittagong</td>\n",
       "      <td>Shere Bangla National Stadium, Mirpur</td>\n",
       "      <td>Mirpur</td>\n",
       "      <td>6</td>\n",
       "      <td>0</td>\n",
       "      <td>6 wickets</td>\n",
       "      <td>David Orchard</td>\n",
       "      <td>Enamul Haque</td>\n",
       "      <td>171</td>\n",
       "      <td>3</td>\n",
       "      <td>174</td>\n",
       "      <td>4</td>\n",
       "    </tr>\n",
       "  </tbody>\n",
       "</table>\n",
       "</div>"
      ],
      "text/plain": [
       "    season         date    team_1      team_2 player_of_match toss_winner  \\\n",
       "0  2011/12  Feb 29 2012  Barishal       Dhaka     Imran Nazir       Dhaka   \n",
       "1  2011/12  Feb 11 2012    Khulna       Dhaka   Andre Russell      Khulna   \n",
       "2  2011/12  Feb 13 2012  Barishal      Khulna    Dwayne Smith      Khulna   \n",
       "3  2011/12  Feb 11 2012  Barishal    Rajshahi   Ahmed Shehzad    Barishal   \n",
       "4  2011/12  Feb 12 2012    Khulna  Chittagong   Nasir Jamshed      Khulna   \n",
       "\n",
       "  toss_decision      winner                                  venue    city  \\\n",
       "0   field first       Dhaka  Shere Bangla National Stadium, Mirpur  Mirpur   \n",
       "1     bat first      Khulna  Shere Bangla National Stadium, Mirpur  Mirpur   \n",
       "2   field first      Khulna  Shere Bangla National Stadium, Mirpur  Mirpur   \n",
       "3     bat first    Barishal  Shere Bangla National Stadium, Mirpur  Mirpur   \n",
       "4     bat first  Chittagong  Shere Bangla National Stadium, Mirpur  Mirpur   \n",
       "\n",
       "   win_by_wickets  win_by_runs     result       umpire_1       umpire_2  \\\n",
       "0               8            0  8 wickets  David Orchard   Enamul Haque   \n",
       "1               0           19    19 runs  Jeremy Lloyds   Sharfuddoula   \n",
       "2               7            0  7 wickets   Enamul Haque  Jeremy Lloyds   \n",
       "3               0           22    22 runs  David Orchard     Gazi Sohel   \n",
       "4               6            0  6 wickets  David Orchard   Enamul Haque   \n",
       "\n",
       "   team_1_run  team_1_wicket  team_2_run  team_2_wicket  \n",
       "0         140              7         144              2  \n",
       "1         175              5         156              7  \n",
       "2         125              0         131              3  \n",
       "3         180              2         158              9  \n",
       "4         171              3         174              4  "
      ]
     },
     "execution_count": 25,
     "metadata": {},
     "output_type": "execute_result"
    }
   ],
   "source": [
    "df.head()"
   ]
  },
  {
   "cell_type": "code",
   "execution_count": 26,
   "id": "69f282bc",
   "metadata": {},
   "outputs": [],
   "source": [
    "toss_decision=[]\n",
    "\n",
    "for row in df['toss_decision']:\n",
    "    if row =='field first':\n",
    "        toss_decision.append('Field')\n",
    "    elif row == 'bat first':\n",
    "        toss_decision.append('Bat')\n",
    "df['toss_decision'] = toss_decision"
   ]
  },
  {
   "cell_type": "code",
   "execution_count": 27,
   "id": "da1bb076",
   "metadata": {},
   "outputs": [
    {
     "data": {
      "text/html": [
       "<div>\n",
       "<style scoped>\n",
       "    .dataframe tbody tr th:only-of-type {\n",
       "        vertical-align: middle;\n",
       "    }\n",
       "\n",
       "    .dataframe tbody tr th {\n",
       "        vertical-align: top;\n",
       "    }\n",
       "\n",
       "    .dataframe thead th {\n",
       "        text-align: right;\n",
       "    }\n",
       "</style>\n",
       "<table border=\"1\" class=\"dataframe\">\n",
       "  <thead>\n",
       "    <tr style=\"text-align: right;\">\n",
       "      <th></th>\n",
       "      <th>season</th>\n",
       "      <th>date</th>\n",
       "      <th>team_1</th>\n",
       "      <th>team_2</th>\n",
       "      <th>player_of_match</th>\n",
       "      <th>toss_winner</th>\n",
       "      <th>toss_decision</th>\n",
       "      <th>winner</th>\n",
       "      <th>venue</th>\n",
       "      <th>city</th>\n",
       "      <th>win_by_wickets</th>\n",
       "      <th>win_by_runs</th>\n",
       "      <th>result</th>\n",
       "      <th>umpire_1</th>\n",
       "      <th>umpire_2</th>\n",
       "      <th>team_1_run</th>\n",
       "      <th>team_1_wicket</th>\n",
       "      <th>team_2_run</th>\n",
       "      <th>team_2_wicket</th>\n",
       "    </tr>\n",
       "  </thead>\n",
       "  <tbody>\n",
       "    <tr>\n",
       "      <th>0</th>\n",
       "      <td>2011/12</td>\n",
       "      <td>Feb 29 2012</td>\n",
       "      <td>Barishal</td>\n",
       "      <td>Dhaka</td>\n",
       "      <td>Imran Nazir</td>\n",
       "      <td>Dhaka</td>\n",
       "      <td>Field</td>\n",
       "      <td>Dhaka</td>\n",
       "      <td>Shere Bangla National Stadium, Mirpur</td>\n",
       "      <td>Mirpur</td>\n",
       "      <td>8</td>\n",
       "      <td>0</td>\n",
       "      <td>8 wickets</td>\n",
       "      <td>David Orchard</td>\n",
       "      <td>Enamul Haque</td>\n",
       "      <td>140</td>\n",
       "      <td>7</td>\n",
       "      <td>144</td>\n",
       "      <td>2</td>\n",
       "    </tr>\n",
       "    <tr>\n",
       "      <th>1</th>\n",
       "      <td>2011/12</td>\n",
       "      <td>Feb 11 2012</td>\n",
       "      <td>Khulna</td>\n",
       "      <td>Dhaka</td>\n",
       "      <td>Andre Russell</td>\n",
       "      <td>Khulna</td>\n",
       "      <td>Bat</td>\n",
       "      <td>Khulna</td>\n",
       "      <td>Shere Bangla National Stadium, Mirpur</td>\n",
       "      <td>Mirpur</td>\n",
       "      <td>0</td>\n",
       "      <td>19</td>\n",
       "      <td>19 runs</td>\n",
       "      <td>Jeremy Lloyds</td>\n",
       "      <td>Sharfuddoula</td>\n",
       "      <td>175</td>\n",
       "      <td>5</td>\n",
       "      <td>156</td>\n",
       "      <td>7</td>\n",
       "    </tr>\n",
       "    <tr>\n",
       "      <th>2</th>\n",
       "      <td>2011/12</td>\n",
       "      <td>Feb 13 2012</td>\n",
       "      <td>Barishal</td>\n",
       "      <td>Khulna</td>\n",
       "      <td>Dwayne Smith</td>\n",
       "      <td>Khulna</td>\n",
       "      <td>Field</td>\n",
       "      <td>Khulna</td>\n",
       "      <td>Shere Bangla National Stadium, Mirpur</td>\n",
       "      <td>Mirpur</td>\n",
       "      <td>7</td>\n",
       "      <td>0</td>\n",
       "      <td>7 wickets</td>\n",
       "      <td>Enamul Haque</td>\n",
       "      <td>Jeremy Lloyds</td>\n",
       "      <td>125</td>\n",
       "      <td>0</td>\n",
       "      <td>131</td>\n",
       "      <td>3</td>\n",
       "    </tr>\n",
       "    <tr>\n",
       "      <th>3</th>\n",
       "      <td>2011/12</td>\n",
       "      <td>Feb 11 2012</td>\n",
       "      <td>Barishal</td>\n",
       "      <td>Rajshahi</td>\n",
       "      <td>Ahmed Shehzad</td>\n",
       "      <td>Barishal</td>\n",
       "      <td>Bat</td>\n",
       "      <td>Barishal</td>\n",
       "      <td>Shere Bangla National Stadium, Mirpur</td>\n",
       "      <td>Mirpur</td>\n",
       "      <td>0</td>\n",
       "      <td>22</td>\n",
       "      <td>22 runs</td>\n",
       "      <td>David Orchard</td>\n",
       "      <td>Gazi Sohel</td>\n",
       "      <td>180</td>\n",
       "      <td>2</td>\n",
       "      <td>158</td>\n",
       "      <td>9</td>\n",
       "    </tr>\n",
       "    <tr>\n",
       "      <th>4</th>\n",
       "      <td>2011/12</td>\n",
       "      <td>Feb 12 2012</td>\n",
       "      <td>Khulna</td>\n",
       "      <td>Chittagong</td>\n",
       "      <td>Nasir Jamshed</td>\n",
       "      <td>Khulna</td>\n",
       "      <td>Bat</td>\n",
       "      <td>Chittagong</td>\n",
       "      <td>Shere Bangla National Stadium, Mirpur</td>\n",
       "      <td>Mirpur</td>\n",
       "      <td>6</td>\n",
       "      <td>0</td>\n",
       "      <td>6 wickets</td>\n",
       "      <td>David Orchard</td>\n",
       "      <td>Enamul Haque</td>\n",
       "      <td>171</td>\n",
       "      <td>3</td>\n",
       "      <td>174</td>\n",
       "      <td>4</td>\n",
       "    </tr>\n",
       "  </tbody>\n",
       "</table>\n",
       "</div>"
      ],
      "text/plain": [
       "    season         date    team_1      team_2 player_of_match toss_winner  \\\n",
       "0  2011/12  Feb 29 2012  Barishal       Dhaka     Imran Nazir       Dhaka   \n",
       "1  2011/12  Feb 11 2012    Khulna       Dhaka   Andre Russell      Khulna   \n",
       "2  2011/12  Feb 13 2012  Barishal      Khulna    Dwayne Smith      Khulna   \n",
       "3  2011/12  Feb 11 2012  Barishal    Rajshahi   Ahmed Shehzad    Barishal   \n",
       "4  2011/12  Feb 12 2012    Khulna  Chittagong   Nasir Jamshed      Khulna   \n",
       "\n",
       "  toss_decision      winner                                  venue    city  \\\n",
       "0         Field       Dhaka  Shere Bangla National Stadium, Mirpur  Mirpur   \n",
       "1           Bat      Khulna  Shere Bangla National Stadium, Mirpur  Mirpur   \n",
       "2         Field      Khulna  Shere Bangla National Stadium, Mirpur  Mirpur   \n",
       "3           Bat    Barishal  Shere Bangla National Stadium, Mirpur  Mirpur   \n",
       "4           Bat  Chittagong  Shere Bangla National Stadium, Mirpur  Mirpur   \n",
       "\n",
       "   win_by_wickets  win_by_runs     result       umpire_1       umpire_2  \\\n",
       "0               8            0  8 wickets  David Orchard   Enamul Haque   \n",
       "1               0           19    19 runs  Jeremy Lloyds   Sharfuddoula   \n",
       "2               7            0  7 wickets   Enamul Haque  Jeremy Lloyds   \n",
       "3               0           22    22 runs  David Orchard     Gazi Sohel   \n",
       "4               6            0  6 wickets  David Orchard   Enamul Haque   \n",
       "\n",
       "   team_1_run  team_1_wicket  team_2_run  team_2_wicket  \n",
       "0         140              7         144              2  \n",
       "1         175              5         156              7  \n",
       "2         125              0         131              3  \n",
       "3         180              2         158              9  \n",
       "4         171              3         174              4  "
      ]
     },
     "execution_count": 27,
     "metadata": {},
     "output_type": "execute_result"
    }
   ],
   "source": [
    "df.head()"
   ]
  },
  {
   "cell_type": "code",
   "execution_count": 28,
   "id": "f4107970",
   "metadata": {},
   "outputs": [
    {
     "data": {
      "text/plain": [
       "Mirpur        204\n",
       "Chittagong     47\n",
       "Chattogram     30\n",
       "Stadium        22\n",
       "Khulna          8\n",
       "Name: city, dtype: int64"
      ]
     },
     "execution_count": 28,
     "metadata": {},
     "output_type": "execute_result"
    }
   ],
   "source": [
    "df[\"city\"].value_counts()"
   ]
  },
  {
   "cell_type": "code",
   "execution_count": 29,
   "id": "ce70ce25",
   "metadata": {},
   "outputs": [],
   "source": [
    "city=[]\n",
    "\n",
    "for row in df['city']:\n",
    "    if row =='Chittagong' or row==\"Chattogram\":\n",
    "        city.append('Chittagong')\n",
    "    elif row == 'Stadium':\n",
    "        city.append('Sylhet')\n",
    "    elif row == 'Mirpur':\n",
    "        city.append('Dhaka')\n",
    "    elif row == 'Khulna':\n",
    "        city.append('Khulna')\n",
    "df['city'] = city"
   ]
  },
  {
   "cell_type": "code",
   "execution_count": 30,
   "id": "3b968d92",
   "metadata": {},
   "outputs": [
    {
     "data": {
      "text/plain": [
       "array(['Dhaka', 'Chittagong', 'Sylhet', 'Khulna'], dtype=object)"
      ]
     },
     "execution_count": 30,
     "metadata": {},
     "output_type": "execute_result"
    }
   ],
   "source": [
    "df[\"city\"].unique()"
   ]
  },
  {
   "cell_type": "code",
   "execution_count": 31,
   "id": "cacdbd1a",
   "metadata": {},
   "outputs": [
    {
     "data": {
      "text/plain": [
       "array(['8 wickets', '19 runs', '7 wickets', '22 runs', '6 wickets',\n",
       "       '53 runs', '10 wickets', '21 runs', '16 runs', '14 runs', '2 runs',\n",
       "       '29 runs', '3 runs', '9 wickets', '43 runs', '4 runs', '78 runs',\n",
       "       '13 runs', '33 runs', '12 runs', '32 runs', '9 runs', '3 wickets',\n",
       "       '4 wickets', '42 runs', '5 wickets', '17 runs', '49 runs',\n",
       "       '8 runs', '54 runs', '83 runs', '5 runs', '105 runs', '25 runs',\n",
       "       'won the', '20 runs', '27 runs', '26 runs', '38 runs', '7 runs',\n",
       "       '72 runs', '58 runs', '76 runs', '80 runs', '11 runs', '1 run',\n",
       "       '2 wickets', '69 runs', '6 runs', 'by 4', '34 runs', '10 runs',\n",
       "       'by 9', 'by 6', '45 runs', '18 runs', '71 runs', '24 runs',\n",
       "       '52 runs', '15 runs', '74 runs', '47 runs', '30 runs', '61 runs',\n",
       "       '92 runs', '65 runs', '68 runs', '40 runs', '99 runs', '95 runs',\n",
       "       '36 runs', '63 runs', '50 runs', '56 runs', '57 runs', '62 runs',\n",
       "       '35 runs', '31 runs', '119 runs', '88 runs', '89 runs', '1 wicket',\n",
       "       '44 runs'], dtype=object)"
      ]
     },
     "execution_count": 31,
     "metadata": {},
     "output_type": "execute_result"
    }
   ],
   "source": [
    "df[\"result\"].unique()"
   ]
  },
  {
   "cell_type": "code",
   "execution_count": 32,
   "id": "df18a7bd",
   "metadata": {},
   "outputs": [],
   "source": [
    "df[\"result\"]=df[\"result\"].str.extract(r\"(\\d+.\\w+)\")"
   ]
  },
  {
   "cell_type": "code",
   "execution_count": 33,
   "id": "20710c5f",
   "metadata": {},
   "outputs": [
    {
     "data": {
      "text/plain": [
       "array(['8 wickets', '19 runs', '7 wickets', '22 runs', '6 wickets',\n",
       "       '53 runs', '10 wickets', '21 runs', '16 runs', '14 runs', '2 runs',\n",
       "       '29 runs', '3 runs', '9 wickets', '43 runs', '4 runs', '78 runs',\n",
       "       '13 runs', '33 runs', '12 runs', '32 runs', '9 runs', '3 wickets',\n",
       "       '4 wickets', '42 runs', '5 wickets', '17 runs', '49 runs',\n",
       "       '8 runs', '54 runs', '83 runs', '5 runs', '105 runs', '25 runs',\n",
       "       nan, '20 runs', '27 runs', '26 runs', '38 runs', '7 runs',\n",
       "       '72 runs', '58 runs', '76 runs', '80 runs', '11 runs', '1 run',\n",
       "       '2 wickets', '69 runs', '6 runs', '34 runs', '10 runs', '45 runs',\n",
       "       '18 runs', '71 runs', '24 runs', '52 runs', '15 runs', '74 runs',\n",
       "       '47 runs', '30 runs', '61 runs', '92 runs', '65 runs', '68 runs',\n",
       "       '40 runs', '99 runs', '95 runs', '36 runs', '63 runs', '50 runs',\n",
       "       '56 runs', '57 runs', '62 runs', '35 runs', '31 runs', '119 runs',\n",
       "       '88 runs', '89 runs', '1 wicket', '44 runs'], dtype=object)"
      ]
     },
     "execution_count": 33,
     "metadata": {},
     "output_type": "execute_result"
    }
   ],
   "source": [
    "df[\"result\"].unique()"
   ]
  },
  {
   "cell_type": "code",
   "execution_count": 34,
   "id": "d187c6d2",
   "metadata": {},
   "outputs": [],
   "source": [
    "df=df.dropna()"
   ]
  },
  {
   "cell_type": "code",
   "execution_count": 35,
   "id": "0a7f9b18",
   "metadata": {},
   "outputs": [
    {
     "data": {
      "text/plain": [
       "array(['8 wickets', '19 runs', '7 wickets', '22 runs', '6 wickets',\n",
       "       '53 runs', '10 wickets', '21 runs', '16 runs', '14 runs', '2 runs',\n",
       "       '29 runs', '3 runs', '9 wickets', '43 runs', '4 runs', '78 runs',\n",
       "       '13 runs', '33 runs', '12 runs', '32 runs', '9 runs', '3 wickets',\n",
       "       '4 wickets', '42 runs', '5 wickets', '17 runs', '49 runs',\n",
       "       '8 runs', '54 runs', '83 runs', '5 runs', '105 runs', '25 runs',\n",
       "       '20 runs', '27 runs', '26 runs', '38 runs', '7 runs', '72 runs',\n",
       "       '58 runs', '76 runs', '80 runs', '11 runs', '1 run', '2 wickets',\n",
       "       '69 runs', '6 runs', '34 runs', '10 runs', '45 runs', '18 runs',\n",
       "       '71 runs', '24 runs', '52 runs', '15 runs', '74 runs', '47 runs',\n",
       "       '30 runs', '61 runs', '92 runs', '65 runs', '68 runs', '40 runs',\n",
       "       '99 runs', '95 runs', '36 runs', '63 runs', '50 runs', '56 runs',\n",
       "       '57 runs', '62 runs', '35 runs', '31 runs', '119 runs', '88 runs',\n",
       "       '89 runs', '1 wicket', '44 runs'], dtype=object)"
      ]
     },
     "execution_count": 35,
     "metadata": {},
     "output_type": "execute_result"
    }
   ],
   "source": [
    "df[\"result\"].unique()"
   ]
  },
  {
   "cell_type": "code",
   "execution_count": 36,
   "id": "6f0b7835",
   "metadata": {},
   "outputs": [],
   "source": [
    "df[['Margin','WonBY']] = df.result.str.split(' ',expand=True)\n",
    "df[\"WonBY\"].fillna(0, inplace = True)"
   ]
  },
  {
   "cell_type": "code",
   "execution_count": 37,
   "id": "7d8c72ac",
   "metadata": {},
   "outputs": [],
   "source": [
    "df=df.drop([\"result\"],axis=1)"
   ]
  },
  {
   "cell_type": "code",
   "execution_count": 38,
   "id": "974cfd45",
   "metadata": {},
   "outputs": [
    {
     "data": {
      "text/html": [
       "<div>\n",
       "<style scoped>\n",
       "    .dataframe tbody tr th:only-of-type {\n",
       "        vertical-align: middle;\n",
       "    }\n",
       "\n",
       "    .dataframe tbody tr th {\n",
       "        vertical-align: top;\n",
       "    }\n",
       "\n",
       "    .dataframe thead th {\n",
       "        text-align: right;\n",
       "    }\n",
       "</style>\n",
       "<table border=\"1\" class=\"dataframe\">\n",
       "  <thead>\n",
       "    <tr style=\"text-align: right;\">\n",
       "      <th></th>\n",
       "      <th>season</th>\n",
       "      <th>date</th>\n",
       "      <th>team_1</th>\n",
       "      <th>team_2</th>\n",
       "      <th>player_of_match</th>\n",
       "      <th>toss_winner</th>\n",
       "      <th>toss_decision</th>\n",
       "      <th>winner</th>\n",
       "      <th>venue</th>\n",
       "      <th>city</th>\n",
       "      <th>win_by_wickets</th>\n",
       "      <th>win_by_runs</th>\n",
       "      <th>umpire_1</th>\n",
       "      <th>umpire_2</th>\n",
       "      <th>team_1_run</th>\n",
       "      <th>team_1_wicket</th>\n",
       "      <th>team_2_run</th>\n",
       "      <th>team_2_wicket</th>\n",
       "      <th>Margin</th>\n",
       "      <th>WonBY</th>\n",
       "    </tr>\n",
       "  </thead>\n",
       "  <tbody>\n",
       "    <tr>\n",
       "      <th>0</th>\n",
       "      <td>2011/12</td>\n",
       "      <td>Feb 29 2012</td>\n",
       "      <td>Barishal</td>\n",
       "      <td>Dhaka</td>\n",
       "      <td>Imran Nazir</td>\n",
       "      <td>Dhaka</td>\n",
       "      <td>Field</td>\n",
       "      <td>Dhaka</td>\n",
       "      <td>Shere Bangla National Stadium, Mirpur</td>\n",
       "      <td>Dhaka</td>\n",
       "      <td>8</td>\n",
       "      <td>0</td>\n",
       "      <td>David Orchard</td>\n",
       "      <td>Enamul Haque</td>\n",
       "      <td>140</td>\n",
       "      <td>7</td>\n",
       "      <td>144</td>\n",
       "      <td>2</td>\n",
       "      <td>8</td>\n",
       "      <td>wickets</td>\n",
       "    </tr>\n",
       "    <tr>\n",
       "      <th>1</th>\n",
       "      <td>2011/12</td>\n",
       "      <td>Feb 11 2012</td>\n",
       "      <td>Khulna</td>\n",
       "      <td>Dhaka</td>\n",
       "      <td>Andre Russell</td>\n",
       "      <td>Khulna</td>\n",
       "      <td>Bat</td>\n",
       "      <td>Khulna</td>\n",
       "      <td>Shere Bangla National Stadium, Mirpur</td>\n",
       "      <td>Dhaka</td>\n",
       "      <td>0</td>\n",
       "      <td>19</td>\n",
       "      <td>Jeremy Lloyds</td>\n",
       "      <td>Sharfuddoula</td>\n",
       "      <td>175</td>\n",
       "      <td>5</td>\n",
       "      <td>156</td>\n",
       "      <td>7</td>\n",
       "      <td>19</td>\n",
       "      <td>runs</td>\n",
       "    </tr>\n",
       "    <tr>\n",
       "      <th>2</th>\n",
       "      <td>2011/12</td>\n",
       "      <td>Feb 13 2012</td>\n",
       "      <td>Barishal</td>\n",
       "      <td>Khulna</td>\n",
       "      <td>Dwayne Smith</td>\n",
       "      <td>Khulna</td>\n",
       "      <td>Field</td>\n",
       "      <td>Khulna</td>\n",
       "      <td>Shere Bangla National Stadium, Mirpur</td>\n",
       "      <td>Dhaka</td>\n",
       "      <td>7</td>\n",
       "      <td>0</td>\n",
       "      <td>Enamul Haque</td>\n",
       "      <td>Jeremy Lloyds</td>\n",
       "      <td>125</td>\n",
       "      <td>0</td>\n",
       "      <td>131</td>\n",
       "      <td>3</td>\n",
       "      <td>7</td>\n",
       "      <td>wickets</td>\n",
       "    </tr>\n",
       "    <tr>\n",
       "      <th>3</th>\n",
       "      <td>2011/12</td>\n",
       "      <td>Feb 11 2012</td>\n",
       "      <td>Barishal</td>\n",
       "      <td>Rajshahi</td>\n",
       "      <td>Ahmed Shehzad</td>\n",
       "      <td>Barishal</td>\n",
       "      <td>Bat</td>\n",
       "      <td>Barishal</td>\n",
       "      <td>Shere Bangla National Stadium, Mirpur</td>\n",
       "      <td>Dhaka</td>\n",
       "      <td>0</td>\n",
       "      <td>22</td>\n",
       "      <td>David Orchard</td>\n",
       "      <td>Gazi Sohel</td>\n",
       "      <td>180</td>\n",
       "      <td>2</td>\n",
       "      <td>158</td>\n",
       "      <td>9</td>\n",
       "      <td>22</td>\n",
       "      <td>runs</td>\n",
       "    </tr>\n",
       "    <tr>\n",
       "      <th>4</th>\n",
       "      <td>2011/12</td>\n",
       "      <td>Feb 12 2012</td>\n",
       "      <td>Khulna</td>\n",
       "      <td>Chittagong</td>\n",
       "      <td>Nasir Jamshed</td>\n",
       "      <td>Khulna</td>\n",
       "      <td>Bat</td>\n",
       "      <td>Chittagong</td>\n",
       "      <td>Shere Bangla National Stadium, Mirpur</td>\n",
       "      <td>Dhaka</td>\n",
       "      <td>6</td>\n",
       "      <td>0</td>\n",
       "      <td>David Orchard</td>\n",
       "      <td>Enamul Haque</td>\n",
       "      <td>171</td>\n",
       "      <td>3</td>\n",
       "      <td>174</td>\n",
       "      <td>4</td>\n",
       "      <td>6</td>\n",
       "      <td>wickets</td>\n",
       "    </tr>\n",
       "  </tbody>\n",
       "</table>\n",
       "</div>"
      ],
      "text/plain": [
       "    season         date    team_1      team_2 player_of_match toss_winner  \\\n",
       "0  2011/12  Feb 29 2012  Barishal       Dhaka     Imran Nazir       Dhaka   \n",
       "1  2011/12  Feb 11 2012    Khulna       Dhaka   Andre Russell      Khulna   \n",
       "2  2011/12  Feb 13 2012  Barishal      Khulna    Dwayne Smith      Khulna   \n",
       "3  2011/12  Feb 11 2012  Barishal    Rajshahi   Ahmed Shehzad    Barishal   \n",
       "4  2011/12  Feb 12 2012    Khulna  Chittagong   Nasir Jamshed      Khulna   \n",
       "\n",
       "  toss_decision      winner                                  venue   city  \\\n",
       "0         Field       Dhaka  Shere Bangla National Stadium, Mirpur  Dhaka   \n",
       "1           Bat      Khulna  Shere Bangla National Stadium, Mirpur  Dhaka   \n",
       "2         Field      Khulna  Shere Bangla National Stadium, Mirpur  Dhaka   \n",
       "3           Bat    Barishal  Shere Bangla National Stadium, Mirpur  Dhaka   \n",
       "4           Bat  Chittagong  Shere Bangla National Stadium, Mirpur  Dhaka   \n",
       "\n",
       "   win_by_wickets  win_by_runs       umpire_1       umpire_2  team_1_run  \\\n",
       "0               8            0  David Orchard   Enamul Haque         140   \n",
       "1               0           19  Jeremy Lloyds   Sharfuddoula         175   \n",
       "2               7            0   Enamul Haque  Jeremy Lloyds         125   \n",
       "3               0           22  David Orchard     Gazi Sohel         180   \n",
       "4               6            0  David Orchard   Enamul Haque         171   \n",
       "\n",
       "   team_1_wicket  team_2_run  team_2_wicket Margin    WonBY  \n",
       "0              7         144              2      8  wickets  \n",
       "1              5         156              7     19     runs  \n",
       "2              0         131              3      7  wickets  \n",
       "3              2         158              9     22     runs  \n",
       "4              3         174              4      6  wickets  "
      ]
     },
     "execution_count": 38,
     "metadata": {},
     "output_type": "execute_result"
    }
   ],
   "source": [
    "df.head()"
   ]
  },
  {
   "cell_type": "code",
   "execution_count": 39,
   "id": "bbbf86f3",
   "metadata": {},
   "outputs": [],
   "source": [
    "# tf=pd.DataFrame(df)\n",
    "# tf['date'].str.strip()"
   ]
  },
  {
   "cell_type": "code",
   "execution_count": 40,
   "id": "7a862c45",
   "metadata": {},
   "outputs": [
    {
     "data": {
      "text/html": [
       "<div>\n",
       "<style scoped>\n",
       "    .dataframe tbody tr th:only-of-type {\n",
       "        vertical-align: middle;\n",
       "    }\n",
       "\n",
       "    .dataframe tbody tr th {\n",
       "        vertical-align: top;\n",
       "    }\n",
       "\n",
       "    .dataframe thead th {\n",
       "        text-align: right;\n",
       "    }\n",
       "</style>\n",
       "<table border=\"1\" class=\"dataframe\">\n",
       "  <thead>\n",
       "    <tr style=\"text-align: right;\">\n",
       "      <th></th>\n",
       "      <th>season</th>\n",
       "      <th>date</th>\n",
       "      <th>team_1</th>\n",
       "      <th>team_2</th>\n",
       "      <th>player_of_match</th>\n",
       "      <th>toss_winner</th>\n",
       "      <th>toss_decision</th>\n",
       "      <th>winner</th>\n",
       "      <th>venue</th>\n",
       "      <th>city</th>\n",
       "      <th>win_by_wickets</th>\n",
       "      <th>win_by_runs</th>\n",
       "      <th>umpire_1</th>\n",
       "      <th>umpire_2</th>\n",
       "      <th>team_1_run</th>\n",
       "      <th>team_1_wicket</th>\n",
       "      <th>team_2_run</th>\n",
       "      <th>team_2_wicket</th>\n",
       "      <th>Margin</th>\n",
       "      <th>WonBY</th>\n",
       "    </tr>\n",
       "  </thead>\n",
       "  <tbody>\n",
       "    <tr>\n",
       "      <th>0</th>\n",
       "      <td>2011/12</td>\n",
       "      <td>Feb 29 2012</td>\n",
       "      <td>Barishal</td>\n",
       "      <td>Dhaka</td>\n",
       "      <td>Imran Nazir</td>\n",
       "      <td>Dhaka</td>\n",
       "      <td>Field</td>\n",
       "      <td>Dhaka</td>\n",
       "      <td>Shere Bangla National Stadium, Mirpur</td>\n",
       "      <td>Dhaka</td>\n",
       "      <td>8</td>\n",
       "      <td>0</td>\n",
       "      <td>David Orchard</td>\n",
       "      <td>Enamul Haque</td>\n",
       "      <td>140</td>\n",
       "      <td>7</td>\n",
       "      <td>144</td>\n",
       "      <td>2</td>\n",
       "      <td>8</td>\n",
       "      <td>wickets</td>\n",
       "    </tr>\n",
       "    <tr>\n",
       "      <th>1</th>\n",
       "      <td>2011/12</td>\n",
       "      <td>Feb 11 2012</td>\n",
       "      <td>Khulna</td>\n",
       "      <td>Dhaka</td>\n",
       "      <td>Andre Russell</td>\n",
       "      <td>Khulna</td>\n",
       "      <td>Bat</td>\n",
       "      <td>Khulna</td>\n",
       "      <td>Shere Bangla National Stadium, Mirpur</td>\n",
       "      <td>Dhaka</td>\n",
       "      <td>0</td>\n",
       "      <td>19</td>\n",
       "      <td>Jeremy Lloyds</td>\n",
       "      <td>Sharfuddoula</td>\n",
       "      <td>175</td>\n",
       "      <td>5</td>\n",
       "      <td>156</td>\n",
       "      <td>7</td>\n",
       "      <td>19</td>\n",
       "      <td>runs</td>\n",
       "    </tr>\n",
       "    <tr>\n",
       "      <th>2</th>\n",
       "      <td>2011/12</td>\n",
       "      <td>Feb 13 2012</td>\n",
       "      <td>Barishal</td>\n",
       "      <td>Khulna</td>\n",
       "      <td>Dwayne Smith</td>\n",
       "      <td>Khulna</td>\n",
       "      <td>Field</td>\n",
       "      <td>Khulna</td>\n",
       "      <td>Shere Bangla National Stadium, Mirpur</td>\n",
       "      <td>Dhaka</td>\n",
       "      <td>7</td>\n",
       "      <td>0</td>\n",
       "      <td>Enamul Haque</td>\n",
       "      <td>Jeremy Lloyds</td>\n",
       "      <td>125</td>\n",
       "      <td>0</td>\n",
       "      <td>131</td>\n",
       "      <td>3</td>\n",
       "      <td>7</td>\n",
       "      <td>wickets</td>\n",
       "    </tr>\n",
       "    <tr>\n",
       "      <th>3</th>\n",
       "      <td>2011/12</td>\n",
       "      <td>Feb 11 2012</td>\n",
       "      <td>Barishal</td>\n",
       "      <td>Rajshahi</td>\n",
       "      <td>Ahmed Shehzad</td>\n",
       "      <td>Barishal</td>\n",
       "      <td>Bat</td>\n",
       "      <td>Barishal</td>\n",
       "      <td>Shere Bangla National Stadium, Mirpur</td>\n",
       "      <td>Dhaka</td>\n",
       "      <td>0</td>\n",
       "      <td>22</td>\n",
       "      <td>David Orchard</td>\n",
       "      <td>Gazi Sohel</td>\n",
       "      <td>180</td>\n",
       "      <td>2</td>\n",
       "      <td>158</td>\n",
       "      <td>9</td>\n",
       "      <td>22</td>\n",
       "      <td>runs</td>\n",
       "    </tr>\n",
       "    <tr>\n",
       "      <th>4</th>\n",
       "      <td>2011/12</td>\n",
       "      <td>Feb 12 2012</td>\n",
       "      <td>Khulna</td>\n",
       "      <td>Chittagong</td>\n",
       "      <td>Nasir Jamshed</td>\n",
       "      <td>Khulna</td>\n",
       "      <td>Bat</td>\n",
       "      <td>Chittagong</td>\n",
       "      <td>Shere Bangla National Stadium, Mirpur</td>\n",
       "      <td>Dhaka</td>\n",
       "      <td>6</td>\n",
       "      <td>0</td>\n",
       "      <td>David Orchard</td>\n",
       "      <td>Enamul Haque</td>\n",
       "      <td>171</td>\n",
       "      <td>3</td>\n",
       "      <td>174</td>\n",
       "      <td>4</td>\n",
       "      <td>6</td>\n",
       "      <td>wickets</td>\n",
       "    </tr>\n",
       "  </tbody>\n",
       "</table>\n",
       "</div>"
      ],
      "text/plain": [
       "    season         date    team_1      team_2 player_of_match toss_winner  \\\n",
       "0  2011/12  Feb 29 2012  Barishal       Dhaka     Imran Nazir       Dhaka   \n",
       "1  2011/12  Feb 11 2012    Khulna       Dhaka   Andre Russell      Khulna   \n",
       "2  2011/12  Feb 13 2012  Barishal      Khulna    Dwayne Smith      Khulna   \n",
       "3  2011/12  Feb 11 2012  Barishal    Rajshahi   Ahmed Shehzad    Barishal   \n",
       "4  2011/12  Feb 12 2012    Khulna  Chittagong   Nasir Jamshed      Khulna   \n",
       "\n",
       "  toss_decision      winner                                  venue   city  \\\n",
       "0         Field       Dhaka  Shere Bangla National Stadium, Mirpur  Dhaka   \n",
       "1           Bat      Khulna  Shere Bangla National Stadium, Mirpur  Dhaka   \n",
       "2         Field      Khulna  Shere Bangla National Stadium, Mirpur  Dhaka   \n",
       "3           Bat    Barishal  Shere Bangla National Stadium, Mirpur  Dhaka   \n",
       "4           Bat  Chittagong  Shere Bangla National Stadium, Mirpur  Dhaka   \n",
       "\n",
       "   win_by_wickets  win_by_runs       umpire_1       umpire_2  team_1_run  \\\n",
       "0               8            0  David Orchard   Enamul Haque         140   \n",
       "1               0           19  Jeremy Lloyds   Sharfuddoula         175   \n",
       "2               7            0   Enamul Haque  Jeremy Lloyds         125   \n",
       "3               0           22  David Orchard     Gazi Sohel         180   \n",
       "4               6            0  David Orchard   Enamul Haque         171   \n",
       "\n",
       "   team_1_wicket  team_2_run  team_2_wicket Margin    WonBY  \n",
       "0              7         144              2      8  wickets  \n",
       "1              5         156              7     19     runs  \n",
       "2              0         131              3      7  wickets  \n",
       "3              2         158              9     22     runs  \n",
       "4              3         174              4      6  wickets  "
      ]
     },
     "execution_count": 40,
     "metadata": {},
     "output_type": "execute_result"
    }
   ],
   "source": [
    "df.head()"
   ]
  },
  {
   "cell_type": "code",
   "execution_count": 41,
   "id": "62c4021b",
   "metadata": {},
   "outputs": [
    {
     "data": {
      "text/html": [
       "<div>\n",
       "<style scoped>\n",
       "    .dataframe tbody tr th:only-of-type {\n",
       "        vertical-align: middle;\n",
       "    }\n",
       "\n",
       "    .dataframe tbody tr th {\n",
       "        vertical-align: top;\n",
       "    }\n",
       "\n",
       "    .dataframe thead th {\n",
       "        text-align: right;\n",
       "    }\n",
       "</style>\n",
       "<table border=\"1\" class=\"dataframe\">\n",
       "  <thead>\n",
       "    <tr style=\"text-align: right;\">\n",
       "      <th></th>\n",
       "      <th>win_by_wickets</th>\n",
       "      <th>win_by_runs</th>\n",
       "      <th>team_1_run</th>\n",
       "      <th>team_1_wicket</th>\n",
       "      <th>team_2_run</th>\n",
       "      <th>team_2_wicket</th>\n",
       "    </tr>\n",
       "  </thead>\n",
       "  <tbody>\n",
       "    <tr>\n",
       "      <th>count</th>\n",
       "      <td>306.000000</td>\n",
       "      <td>306.000000</td>\n",
       "      <td>306.000000</td>\n",
       "      <td>306.000000</td>\n",
       "      <td>306.000000</td>\n",
       "      <td>306.000000</td>\n",
       "    </tr>\n",
       "    <tr>\n",
       "      <th>mean</th>\n",
       "      <td>3.238562</td>\n",
       "      <td>15.882353</td>\n",
       "      <td>155.071895</td>\n",
       "      <td>5.457516</td>\n",
       "      <td>140.313725</td>\n",
       "      <td>4.022876</td>\n",
       "    </tr>\n",
       "    <tr>\n",
       "      <th>std</th>\n",
       "      <td>3.453478</td>\n",
       "      <td>24.745509</td>\n",
       "      <td>32.292841</td>\n",
       "      <td>2.607648</td>\n",
       "      <td>29.958982</td>\n",
       "      <td>3.055143</td>\n",
       "    </tr>\n",
       "    <tr>\n",
       "      <th>min</th>\n",
       "      <td>0.000000</td>\n",
       "      <td>0.000000</td>\n",
       "      <td>44.000000</td>\n",
       "      <td>0.000000</td>\n",
       "      <td>45.000000</td>\n",
       "      <td>0.000000</td>\n",
       "    </tr>\n",
       "    <tr>\n",
       "      <th>25%</th>\n",
       "      <td>0.000000</td>\n",
       "      <td>0.000000</td>\n",
       "      <td>135.000000</td>\n",
       "      <td>4.000000</td>\n",
       "      <td>125.250000</td>\n",
       "      <td>1.000000</td>\n",
       "    </tr>\n",
       "    <tr>\n",
       "      <th>50%</th>\n",
       "      <td>2.000000</td>\n",
       "      <td>0.000000</td>\n",
       "      <td>156.000000</td>\n",
       "      <td>6.000000</td>\n",
       "      <td>142.000000</td>\n",
       "      <td>4.000000</td>\n",
       "    </tr>\n",
       "    <tr>\n",
       "      <th>75%</th>\n",
       "      <td>6.000000</td>\n",
       "      <td>24.750000</td>\n",
       "      <td>176.000000</td>\n",
       "      <td>7.000000</td>\n",
       "      <td>160.000000</td>\n",
       "      <td>7.000000</td>\n",
       "    </tr>\n",
       "    <tr>\n",
       "      <th>max</th>\n",
       "      <td>10.000000</td>\n",
       "      <td>119.000000</td>\n",
       "      <td>239.000000</td>\n",
       "      <td>9.000000</td>\n",
       "      <td>222.000000</td>\n",
       "      <td>9.000000</td>\n",
       "    </tr>\n",
       "  </tbody>\n",
       "</table>\n",
       "</div>"
      ],
      "text/plain": [
       "       win_by_wickets  win_by_runs  team_1_run  team_1_wicket  team_2_run  \\\n",
       "count      306.000000   306.000000  306.000000     306.000000  306.000000   \n",
       "mean         3.238562    15.882353  155.071895       5.457516  140.313725   \n",
       "std          3.453478    24.745509   32.292841       2.607648   29.958982   \n",
       "min          0.000000     0.000000   44.000000       0.000000   45.000000   \n",
       "25%          0.000000     0.000000  135.000000       4.000000  125.250000   \n",
       "50%          2.000000     0.000000  156.000000       6.000000  142.000000   \n",
       "75%          6.000000    24.750000  176.000000       7.000000  160.000000   \n",
       "max         10.000000   119.000000  239.000000       9.000000  222.000000   \n",
       "\n",
       "       team_2_wicket  \n",
       "count     306.000000  \n",
       "mean        4.022876  \n",
       "std         3.055143  \n",
       "min         0.000000  \n",
       "25%         1.000000  \n",
       "50%         4.000000  \n",
       "75%         7.000000  \n",
       "max         9.000000  "
      ]
     },
     "execution_count": 41,
     "metadata": {},
     "output_type": "execute_result"
    }
   ],
   "source": [
    "df.describe()"
   ]
  },
  {
   "cell_type": "code",
   "execution_count": 42,
   "id": "8bad40dc",
   "metadata": {},
   "outputs": [
    {
     "data": {
      "text/plain": [
       "array(['Shere Bangla National Stadium, Mirpur',\n",
       "       'Zahur Ahmed Chowdhury Stadium, Chittagong',\n",
       "       'Sylhet International Cricket Stadium',\n",
       "       'Zahur Ahmed Chowdhury Stadium, Chattogram',\n",
       "       'Sheikh Abu Naser Stadium, Khulna', 'MA Aziz Stadium, Chittagong'],\n",
       "      dtype=object)"
      ]
     },
     "execution_count": 42,
     "metadata": {},
     "output_type": "execute_result"
    }
   ],
   "source": [
    "df[\"venue\"].unique()"
   ]
  },
  {
   "cell_type": "markdown",
   "id": "8200777e",
   "metadata": {},
   "source": [
    "# Formating Date"
   ]
  },
  {
   "cell_type": "code",
   "execution_count": 43,
   "id": "80bd4bc3",
   "metadata": {},
   "outputs": [],
   "source": [
    "def whitespace_remover(dataframe):\n",
    "    for i in dataframe.columns:\n",
    "        if dataframe[i].dtype == 'object':\n",
    "            dataframe[i] = dataframe[i].map(str.strip)\n",
    "        else:\n",
    "            pass\n",
    "whitespace_remover(df)"
   ]
  },
  {
   "cell_type": "code",
   "execution_count": 44,
   "id": "7d7617f8",
   "metadata": {},
   "outputs": [
    {
     "data": {
      "text/plain": [
       "array(['Feb 29 2012', 'Feb 11 2012', 'Feb 13 2012', 'Feb 12 2012',\n",
       "       'Feb 10 2012', 'Feb 14 2012', 'Feb 15 2012', 'Feb 16 2012',\n",
       "       'Feb 18 2012', 'Nov 8 2016', 'Nov 9 2016', 'Nov 10 2016',\n",
       "       'Nov 11 2016', 'Feb 19 2013', 'Nov 12 2016', 'Nov 13 2016',\n",
       "       'Nov 14 2016', 'Nov 17 2016', 'Nov 18 2016', 'Nov 20 2016',\n",
       "       'Nov 21 2016', 'Nov 22 2016', 'Nov 19 2016', 'Nov 27 2016',\n",
       "       'Nov 26 2016', 'Nov 25 2016', 'Nov 29 2016', 'Nov 30 2016',\n",
       "       'Dec 2 2016', 'Dec 1 2016', 'Nov 28 2016', 'Dec 3 2016',\n",
       "       'Dec 4 2016', 'Dec 6 2016', 'Dec 7 2016', 'Jan 5 2019',\n",
       "       'Jan 8 2019', 'Jan 6 2019', 'Jan 9 2019', 'Jan 11 2019',\n",
       "       'Jan 15 2019', 'Jan 12 2019', 'Jan 13 2019', 'Jan 16 2019',\n",
       "       'Jan 19 2019', 'Jan 21 2019', 'Jan 18 2019', 'Jan 22 2019',\n",
       "       'Jan 23 2019', 'Jan 25 2019', 'Jan 26 2019', 'Jan 29 2019',\n",
       "       'Jan 28 2019', 'Jan 30 2019', 'Feb 1 2019', 'Feb 6 2019',\n",
       "       'Nov 22 2015', 'Nov 23 2015', 'Feb 2 2019', 'Feb 4 2019',\n",
       "       'Nov 24 2015', 'Nov 25 2015', 'Nov 26 2015', 'Nov 27 2015',\n",
       "       'Nov 30 2015', 'Dec 1 2015', 'Dec 2 2015', 'Dec 3 2015',\n",
       "       'Dec 7 2015', 'Dec 8 2015', 'Dec 6 2015', 'Dec 9 2015',\n",
       "       'Dec 12 2015', 'Dec 10 2015', 'Dec 13 2015', 'Dec 11 2019',\n",
       "       'Dec 12 2019', 'Dec 13 2019', 'Dec 14 2019', 'Dec 17 2019',\n",
       "       'Dec 18 2019', 'Dec 20 2019', 'Dec 21 2019', 'Dec 23 2019',\n",
       "       'Dec 24 2019', 'Dec 27 2019', 'Dec 28 2019', 'Dec 30 2019',\n",
       "       'Dec 31 2019', 'Jan 2 2020', 'Jan 3 2020', 'Jan 4 2020',\n",
       "       'Jan 7 2020', 'Jan 11 2020', 'Jan 8 2020', 'Jan 10 2020',\n",
       "       'Jan 13 2020', 'Jan 15 2020', 'Nov 4 2017', 'Nov 5 2017',\n",
       "       'Nov 7 2017', 'Nov 8 2017', 'Nov 11 2017', 'Nov 12 2017',\n",
       "       'Nov 14 2017', 'Nov 17 2017', 'Nov 18 2017', 'Nov 20 2017',\n",
       "       'Nov 21 2017', 'Nov 24 2017', 'Nov 25 2017', 'Nov 27 2017',\n",
       "       'Nov 28 2017', 'Dec 3 2017', 'Dec 5 2017', 'Nov 29 2017',\n",
       "       'Dec 2 2017', 'Dec 6 2017', 'Dec 8 2017', '0 - 11 2017',\n",
       "       'Jan 21 2022', 'Jan 22 2022', 'Jan 24 2022', 'Jan 28 2022',\n",
       "       'Jan 25 2022', 'Jan 29 2022', 'Feb 3 2022', 'Jan 31 2022',\n",
       "       'Feb 1 2022', 'Dec 9 2016', 'Dec 12 2017', 'Jan 18 2013',\n",
       "       'Feb 8 2019', 'Jan 17 2020', 'Dec 15 2015', 'Jan 19 2013',\n",
       "       'Jan 20 2013', 'Jan 22 2013', 'Jan 23 2013', 'Jan 25 2013',\n",
       "       'Jan 24 2013', 'Jan 28 2013', 'Jan 29 2013', 'Jan 31 2013',\n",
       "       'Feb 1 2013', 'Feb 2 2013', 'Feb 4 2013', 'Feb 8 2013',\n",
       "       'Feb 5 2013', 'Feb 7 2013', 'Feb 9 2013', 'Feb 12 2013',\n",
       "       'Feb 14 2013', 'Feb 11 2013', 'Feb 13 2013', 'Feb 15 2013',\n",
       "       'Feb 16 2013', 'Feb 18 2013', 'Feb 19 2012', 'Feb 20 2012',\n",
       "       'Feb 22 2012', 'Feb 24 2012', 'Feb 25 2012', 'Feb 26 2012',\n",
       "       'Feb 27 2012', 'Feb 28 2012'], dtype=object)"
      ]
     },
     "execution_count": 44,
     "metadata": {},
     "output_type": "execute_result"
    }
   ],
   "source": [
    "df[\"date\"].unique()"
   ]
  },
  {
   "cell_type": "code",
   "execution_count": 45,
   "id": "50598659",
   "metadata": {},
   "outputs": [],
   "source": [
    "# year = df['date'].str.extract(r'\\b(\\d{4})\\b')\n",
    "# month = df['date'].str.extract(r'([a-zA-Z]+)')\n",
    "# day = df['date'].str.extract(r'\\b(\\d{1,2})\\b')"
   ]
  },
  {
   "cell_type": "code",
   "execution_count": 46,
   "id": "7ef5d1c5",
   "metadata": {},
   "outputs": [],
   "source": [
    "df[\"date\"]=df[\"date\"].str.extract(r\"([a-zA-Z]+.\\b\\d{1,2}\\b.\\b\\d{4}\\b)\")"
   ]
  },
  {
   "cell_type": "code",
   "execution_count": 47,
   "id": "ae34c316",
   "metadata": {},
   "outputs": [
    {
     "data": {
      "text/plain": [
       "array(['Feb 29 2012', 'Feb 11 2012', 'Feb 13 2012', 'Feb 12 2012',\n",
       "       'Feb 10 2012', 'Feb 14 2012', 'Feb 15 2012', 'Feb 16 2012',\n",
       "       'Feb 18 2012', 'Nov 8 2016', 'Nov 9 2016', 'Nov 10 2016',\n",
       "       'Nov 11 2016', 'Feb 19 2013', 'Nov 12 2016', 'Nov 13 2016',\n",
       "       'Nov 14 2016', 'Nov 17 2016', 'Nov 18 2016', 'Nov 20 2016',\n",
       "       'Nov 21 2016', 'Nov 22 2016', 'Nov 19 2016', 'Nov 27 2016',\n",
       "       'Nov 26 2016', 'Nov 25 2016', 'Nov 29 2016', 'Nov 30 2016',\n",
       "       'Dec 2 2016', 'Dec 1 2016', 'Nov 28 2016', 'Dec 3 2016',\n",
       "       'Dec 4 2016', 'Dec 6 2016', 'Dec 7 2016', 'Jan 5 2019',\n",
       "       'Jan 8 2019', 'Jan 6 2019', 'Jan 9 2019', 'Jan 11 2019',\n",
       "       'Jan 15 2019', 'Jan 12 2019', 'Jan 13 2019', 'Jan 16 2019',\n",
       "       'Jan 19 2019', 'Jan 21 2019', 'Jan 18 2019', 'Jan 22 2019',\n",
       "       'Jan 23 2019', 'Jan 25 2019', 'Jan 26 2019', 'Jan 29 2019',\n",
       "       'Jan 28 2019', 'Jan 30 2019', 'Feb 1 2019', 'Feb 6 2019',\n",
       "       'Nov 22 2015', 'Nov 23 2015', 'Feb 2 2019', 'Feb 4 2019',\n",
       "       'Nov 24 2015', 'Nov 25 2015', 'Nov 26 2015', 'Nov 27 2015',\n",
       "       'Nov 30 2015', 'Dec 1 2015', 'Dec 2 2015', 'Dec 3 2015',\n",
       "       'Dec 7 2015', 'Dec 8 2015', 'Dec 6 2015', 'Dec 9 2015',\n",
       "       'Dec 12 2015', 'Dec 10 2015', 'Dec 13 2015', 'Dec 11 2019',\n",
       "       'Dec 12 2019', 'Dec 13 2019', 'Dec 14 2019', 'Dec 17 2019',\n",
       "       'Dec 18 2019', 'Dec 20 2019', 'Dec 21 2019', 'Dec 23 2019',\n",
       "       'Dec 24 2019', 'Dec 27 2019', 'Dec 28 2019', 'Dec 30 2019',\n",
       "       'Dec 31 2019', 'Jan 2 2020', 'Jan 3 2020', 'Jan 4 2020',\n",
       "       'Jan 7 2020', 'Jan 11 2020', 'Jan 8 2020', 'Jan 10 2020',\n",
       "       'Jan 13 2020', 'Jan 15 2020', 'Nov 4 2017', 'Nov 5 2017',\n",
       "       'Nov 7 2017', 'Nov 8 2017', 'Nov 11 2017', 'Nov 12 2017',\n",
       "       'Nov 14 2017', 'Nov 17 2017', 'Nov 18 2017', 'Nov 20 2017',\n",
       "       'Nov 21 2017', 'Nov 24 2017', 'Nov 25 2017', 'Nov 27 2017',\n",
       "       'Nov 28 2017', 'Dec 3 2017', 'Dec 5 2017', 'Nov 29 2017',\n",
       "       'Dec 2 2017', 'Dec 6 2017', 'Dec 8 2017', nan, 'Jan 21 2022',\n",
       "       'Jan 22 2022', 'Jan 24 2022', 'Jan 28 2022', 'Jan 25 2022',\n",
       "       'Jan 29 2022', 'Feb 3 2022', 'Jan 31 2022', 'Feb 1 2022',\n",
       "       'Dec 9 2016', 'Dec 12 2017', 'Jan 18 2013', 'Feb 8 2019',\n",
       "       'Jan 17 2020', 'Dec 15 2015', 'Jan 19 2013', 'Jan 20 2013',\n",
       "       'Jan 22 2013', 'Jan 23 2013', 'Jan 25 2013', 'Jan 24 2013',\n",
       "       'Jan 28 2013', 'Jan 29 2013', 'Jan 31 2013', 'Feb 1 2013',\n",
       "       'Feb 2 2013', 'Feb 4 2013', 'Feb 8 2013', 'Feb 5 2013',\n",
       "       'Feb 7 2013', 'Feb 9 2013', 'Feb 12 2013', 'Feb 14 2013',\n",
       "       'Feb 11 2013', 'Feb 13 2013', 'Feb 15 2013', 'Feb 16 2013',\n",
       "       'Feb 18 2013', 'Feb 19 2012', 'Feb 20 2012', 'Feb 22 2012',\n",
       "       'Feb 24 2012', 'Feb 25 2012', 'Feb 26 2012', 'Feb 27 2012',\n",
       "       'Feb 28 2012'], dtype=object)"
      ]
     },
     "execution_count": 47,
     "metadata": {},
     "output_type": "execute_result"
    }
   ],
   "source": [
    "df[\"date\"].unique()"
   ]
  },
  {
   "cell_type": "code",
   "execution_count": 48,
   "id": "24485cb1",
   "metadata": {},
   "outputs": [
    {
     "data": {
      "text/plain": [
       "season             0\n",
       "date               1\n",
       "team_1             0\n",
       "team_2             0\n",
       "player_of_match    0\n",
       "toss_winner        0\n",
       "toss_decision      0\n",
       "winner             0\n",
       "venue              0\n",
       "city               0\n",
       "win_by_wickets     0\n",
       "win_by_runs        0\n",
       "umpire_1           0\n",
       "umpire_2           0\n",
       "team_1_run         0\n",
       "team_1_wicket      0\n",
       "team_2_run         0\n",
       "team_2_wicket      0\n",
       "Margin             0\n",
       "WonBY              0\n",
       "dtype: int64"
      ]
     },
     "execution_count": 48,
     "metadata": {},
     "output_type": "execute_result"
    }
   ],
   "source": [
    "df.isnull().sum()"
   ]
  },
  {
   "cell_type": "code",
   "execution_count": 49,
   "id": "d0a97c63",
   "metadata": {},
   "outputs": [
    {
     "data": {
      "text/plain": [
       "(306, 20)"
      ]
     },
     "execution_count": 49,
     "metadata": {},
     "output_type": "execute_result"
    }
   ],
   "source": [
    "df.shape"
   ]
  },
  {
   "cell_type": "code",
   "execution_count": 50,
   "id": "d6884050",
   "metadata": {},
   "outputs": [],
   "source": [
    "df=df.dropna()"
   ]
  },
  {
   "cell_type": "code",
   "execution_count": 51,
   "id": "2db3c1a6",
   "metadata": {},
   "outputs": [
    {
     "data": {
      "text/plain": [
       "season             0\n",
       "date               0\n",
       "team_1             0\n",
       "team_2             0\n",
       "player_of_match    0\n",
       "toss_winner        0\n",
       "toss_decision      0\n",
       "winner             0\n",
       "venue              0\n",
       "city               0\n",
       "win_by_wickets     0\n",
       "win_by_runs        0\n",
       "umpire_1           0\n",
       "umpire_2           0\n",
       "team_1_run         0\n",
       "team_1_wicket      0\n",
       "team_2_run         0\n",
       "team_2_wicket      0\n",
       "Margin             0\n",
       "WonBY              0\n",
       "dtype: int64"
      ]
     },
     "execution_count": 51,
     "metadata": {},
     "output_type": "execute_result"
    }
   ],
   "source": [
    "df.isnull().sum()"
   ]
  },
  {
   "cell_type": "code",
   "execution_count": 52,
   "id": "8db71c0c",
   "metadata": {},
   "outputs": [
    {
     "data": {
      "text/plain": [
       "(305, 20)"
      ]
     },
     "execution_count": 52,
     "metadata": {},
     "output_type": "execute_result"
    }
   ],
   "source": [
    "df.shape"
   ]
  },
  {
   "cell_type": "code",
   "execution_count": 53,
   "id": "4901461b",
   "metadata": {},
   "outputs": [
    {
     "name": "stdout",
     "output_type": "stream",
     "text": [
      "<class 'pandas.core.frame.DataFrame'>\n",
      "Int64Index: 305 entries, 0 to 310\n",
      "Data columns (total 20 columns):\n",
      " #   Column           Non-Null Count  Dtype \n",
      "---  ------           --------------  ----- \n",
      " 0   season           305 non-null    object\n",
      " 1   date             305 non-null    object\n",
      " 2   team_1           305 non-null    object\n",
      " 3   team_2           305 non-null    object\n",
      " 4   player_of_match  305 non-null    object\n",
      " 5   toss_winner      305 non-null    object\n",
      " 6   toss_decision    305 non-null    object\n",
      " 7   winner           305 non-null    object\n",
      " 8   venue            305 non-null    object\n",
      " 9   city             305 non-null    object\n",
      " 10  win_by_wickets   305 non-null    int64 \n",
      " 11  win_by_runs      305 non-null    int64 \n",
      " 12  umpire_1         305 non-null    object\n",
      " 13  umpire_2         305 non-null    object\n",
      " 14  team_1_run       305 non-null    int64 \n",
      " 15  team_1_wicket    305 non-null    int64 \n",
      " 16  team_2_run       305 non-null    int64 \n",
      " 17  team_2_wicket    305 non-null    int64 \n",
      " 18  Margin           305 non-null    object\n",
      " 19  WonBY            305 non-null    object\n",
      "dtypes: int64(6), object(14)\n",
      "memory usage: 50.0+ KB\n"
     ]
    }
   ],
   "source": [
    "df.info()"
   ]
  },
  {
   "cell_type": "code",
   "execution_count": 54,
   "id": "b8e4e2c4",
   "metadata": {},
   "outputs": [],
   "source": [
    "df.date = pd.to_datetime(df.date)"
   ]
  },
  {
   "cell_type": "code",
   "execution_count": 55,
   "id": "eea3be63",
   "metadata": {},
   "outputs": [
    {
     "name": "stdout",
     "output_type": "stream",
     "text": [
      "<class 'pandas.core.frame.DataFrame'>\n",
      "Int64Index: 305 entries, 0 to 310\n",
      "Data columns (total 20 columns):\n",
      " #   Column           Non-Null Count  Dtype         \n",
      "---  ------           --------------  -----         \n",
      " 0   season           305 non-null    object        \n",
      " 1   date             305 non-null    datetime64[ns]\n",
      " 2   team_1           305 non-null    object        \n",
      " 3   team_2           305 non-null    object        \n",
      " 4   player_of_match  305 non-null    object        \n",
      " 5   toss_winner      305 non-null    object        \n",
      " 6   toss_decision    305 non-null    object        \n",
      " 7   winner           305 non-null    object        \n",
      " 8   venue            305 non-null    object        \n",
      " 9   city             305 non-null    object        \n",
      " 10  win_by_wickets   305 non-null    int64         \n",
      " 11  win_by_runs      305 non-null    int64         \n",
      " 12  umpire_1         305 non-null    object        \n",
      " 13  umpire_2         305 non-null    object        \n",
      " 14  team_1_run       305 non-null    int64         \n",
      " 15  team_1_wicket    305 non-null    int64         \n",
      " 16  team_2_run       305 non-null    int64         \n",
      " 17  team_2_wicket    305 non-null    int64         \n",
      " 18  Margin           305 non-null    object        \n",
      " 19  WonBY            305 non-null    object        \n",
      "dtypes: datetime64[ns](1), int64(6), object(13)\n",
      "memory usage: 50.0+ KB\n"
     ]
    }
   ],
   "source": [
    "df.info()"
   ]
  },
  {
   "cell_type": "code",
   "execution_count": 56,
   "id": "771786d9",
   "metadata": {},
   "outputs": [
    {
     "data": {
      "text/html": [
       "<div>\n",
       "<style scoped>\n",
       "    .dataframe tbody tr th:only-of-type {\n",
       "        vertical-align: middle;\n",
       "    }\n",
       "\n",
       "    .dataframe tbody tr th {\n",
       "        vertical-align: top;\n",
       "    }\n",
       "\n",
       "    .dataframe thead th {\n",
       "        text-align: right;\n",
       "    }\n",
       "</style>\n",
       "<table border=\"1\" class=\"dataframe\">\n",
       "  <thead>\n",
       "    <tr style=\"text-align: right;\">\n",
       "      <th></th>\n",
       "      <th>season</th>\n",
       "      <th>date</th>\n",
       "      <th>team_1</th>\n",
       "      <th>team_2</th>\n",
       "      <th>player_of_match</th>\n",
       "      <th>toss_winner</th>\n",
       "      <th>toss_decision</th>\n",
       "      <th>winner</th>\n",
       "      <th>venue</th>\n",
       "      <th>city</th>\n",
       "      <th>win_by_wickets</th>\n",
       "      <th>win_by_runs</th>\n",
       "      <th>umpire_1</th>\n",
       "      <th>umpire_2</th>\n",
       "      <th>team_1_run</th>\n",
       "      <th>team_1_wicket</th>\n",
       "      <th>team_2_run</th>\n",
       "      <th>team_2_wicket</th>\n",
       "      <th>Margin</th>\n",
       "      <th>WonBY</th>\n",
       "    </tr>\n",
       "  </thead>\n",
       "  <tbody>\n",
       "    <tr>\n",
       "      <th>0</th>\n",
       "      <td>2011/12</td>\n",
       "      <td>2012-02-29</td>\n",
       "      <td>Barishal</td>\n",
       "      <td>Dhaka</td>\n",
       "      <td>Imran Nazir</td>\n",
       "      <td>Dhaka</td>\n",
       "      <td>Field</td>\n",
       "      <td>Dhaka</td>\n",
       "      <td>Shere Bangla National Stadium, Mirpur</td>\n",
       "      <td>Dhaka</td>\n",
       "      <td>8</td>\n",
       "      <td>0</td>\n",
       "      <td>David Orchard</td>\n",
       "      <td>Enamul Haque</td>\n",
       "      <td>140</td>\n",
       "      <td>7</td>\n",
       "      <td>144</td>\n",
       "      <td>2</td>\n",
       "      <td>8</td>\n",
       "      <td>wickets</td>\n",
       "    </tr>\n",
       "    <tr>\n",
       "      <th>1</th>\n",
       "      <td>2011/12</td>\n",
       "      <td>2012-02-11</td>\n",
       "      <td>Khulna</td>\n",
       "      <td>Dhaka</td>\n",
       "      <td>Andre Russell</td>\n",
       "      <td>Khulna</td>\n",
       "      <td>Bat</td>\n",
       "      <td>Khulna</td>\n",
       "      <td>Shere Bangla National Stadium, Mirpur</td>\n",
       "      <td>Dhaka</td>\n",
       "      <td>0</td>\n",
       "      <td>19</td>\n",
       "      <td>Jeremy Lloyds</td>\n",
       "      <td>Sharfuddoula</td>\n",
       "      <td>175</td>\n",
       "      <td>5</td>\n",
       "      <td>156</td>\n",
       "      <td>7</td>\n",
       "      <td>19</td>\n",
       "      <td>runs</td>\n",
       "    </tr>\n",
       "    <tr>\n",
       "      <th>2</th>\n",
       "      <td>2011/12</td>\n",
       "      <td>2012-02-13</td>\n",
       "      <td>Barishal</td>\n",
       "      <td>Khulna</td>\n",
       "      <td>Dwayne Smith</td>\n",
       "      <td>Khulna</td>\n",
       "      <td>Field</td>\n",
       "      <td>Khulna</td>\n",
       "      <td>Shere Bangla National Stadium, Mirpur</td>\n",
       "      <td>Dhaka</td>\n",
       "      <td>7</td>\n",
       "      <td>0</td>\n",
       "      <td>Enamul Haque</td>\n",
       "      <td>Jeremy Lloyds</td>\n",
       "      <td>125</td>\n",
       "      <td>0</td>\n",
       "      <td>131</td>\n",
       "      <td>3</td>\n",
       "      <td>7</td>\n",
       "      <td>wickets</td>\n",
       "    </tr>\n",
       "    <tr>\n",
       "      <th>3</th>\n",
       "      <td>2011/12</td>\n",
       "      <td>2012-02-11</td>\n",
       "      <td>Barishal</td>\n",
       "      <td>Rajshahi</td>\n",
       "      <td>Ahmed Shehzad</td>\n",
       "      <td>Barishal</td>\n",
       "      <td>Bat</td>\n",
       "      <td>Barishal</td>\n",
       "      <td>Shere Bangla National Stadium, Mirpur</td>\n",
       "      <td>Dhaka</td>\n",
       "      <td>0</td>\n",
       "      <td>22</td>\n",
       "      <td>David Orchard</td>\n",
       "      <td>Gazi Sohel</td>\n",
       "      <td>180</td>\n",
       "      <td>2</td>\n",
       "      <td>158</td>\n",
       "      <td>9</td>\n",
       "      <td>22</td>\n",
       "      <td>runs</td>\n",
       "    </tr>\n",
       "    <tr>\n",
       "      <th>4</th>\n",
       "      <td>2011/12</td>\n",
       "      <td>2012-02-12</td>\n",
       "      <td>Khulna</td>\n",
       "      <td>Chittagong</td>\n",
       "      <td>Nasir Jamshed</td>\n",
       "      <td>Khulna</td>\n",
       "      <td>Bat</td>\n",
       "      <td>Chittagong</td>\n",
       "      <td>Shere Bangla National Stadium, Mirpur</td>\n",
       "      <td>Dhaka</td>\n",
       "      <td>6</td>\n",
       "      <td>0</td>\n",
       "      <td>David Orchard</td>\n",
       "      <td>Enamul Haque</td>\n",
       "      <td>171</td>\n",
       "      <td>3</td>\n",
       "      <td>174</td>\n",
       "      <td>4</td>\n",
       "      <td>6</td>\n",
       "      <td>wickets</td>\n",
       "    </tr>\n",
       "  </tbody>\n",
       "</table>\n",
       "</div>"
      ],
      "text/plain": [
       "    season       date    team_1      team_2 player_of_match toss_winner  \\\n",
       "0  2011/12 2012-02-29  Barishal       Dhaka     Imran Nazir       Dhaka   \n",
       "1  2011/12 2012-02-11    Khulna       Dhaka   Andre Russell      Khulna   \n",
       "2  2011/12 2012-02-13  Barishal      Khulna    Dwayne Smith      Khulna   \n",
       "3  2011/12 2012-02-11  Barishal    Rajshahi   Ahmed Shehzad    Barishal   \n",
       "4  2011/12 2012-02-12    Khulna  Chittagong   Nasir Jamshed      Khulna   \n",
       "\n",
       "  toss_decision      winner                                  venue   city  \\\n",
       "0         Field       Dhaka  Shere Bangla National Stadium, Mirpur  Dhaka   \n",
       "1           Bat      Khulna  Shere Bangla National Stadium, Mirpur  Dhaka   \n",
       "2         Field      Khulna  Shere Bangla National Stadium, Mirpur  Dhaka   \n",
       "3           Bat    Barishal  Shere Bangla National Stadium, Mirpur  Dhaka   \n",
       "4           Bat  Chittagong  Shere Bangla National Stadium, Mirpur  Dhaka   \n",
       "\n",
       "   win_by_wickets  win_by_runs       umpire_1       umpire_2  team_1_run  \\\n",
       "0               8            0  David Orchard   Enamul Haque         140   \n",
       "1               0           19  Jeremy Lloyds   Sharfuddoula         175   \n",
       "2               7            0   Enamul Haque  Jeremy Lloyds         125   \n",
       "3               0           22  David Orchard     Gazi Sohel         180   \n",
       "4               6            0  David Orchard   Enamul Haque         171   \n",
       "\n",
       "   team_1_wicket  team_2_run  team_2_wicket Margin    WonBY  \n",
       "0              7         144              2      8  wickets  \n",
       "1              5         156              7     19     runs  \n",
       "2              0         131              3      7  wickets  \n",
       "3              2         158              9     22     runs  \n",
       "4              3         174              4      6  wickets  "
      ]
     },
     "execution_count": 56,
     "metadata": {},
     "output_type": "execute_result"
    }
   ],
   "source": [
    "df.head()"
   ]
  },
  {
   "cell_type": "code",
   "execution_count": 57,
   "id": "cff984fb",
   "metadata": {},
   "outputs": [
    {
     "data": {
      "text/plain": [
       "array(['2011/12', '2016/17', '2012/13', '2018/19', '2015/16', '2019/20',\n",
       "       '2017/18', '2021/22'], dtype=object)"
      ]
     },
     "execution_count": 57,
     "metadata": {},
     "output_type": "execute_result"
    }
   ],
   "source": [
    "df.season.unique()"
   ]
  },
  {
   "cell_type": "code",
   "execution_count": 58,
   "id": "6bc57013",
   "metadata": {},
   "outputs": [],
   "source": [
    "df['season'] = df['season'].replace(['2011/12'],'2012')\n",
    "df['season'] = df['season'].replace(['2012/13'],'2013')\n",
    "df['season'] = df['season'].replace(['2015/16'],'2015')\n",
    "df['season'] = df['season'].replace(['2016/17'],'2016')\n",
    "df['season'] = df['season'].replace(['2017/18'],'2017')\n",
    "df['season'] = df['season'].replace(['2018/19'],'2019')\n",
    "df['season'] = df['season'].replace(['2019/20'],'2020')\n",
    "df['season'] = df['season'].replace(['2021/22'],'2022')"
   ]
  },
  {
   "cell_type": "code",
   "execution_count": 59,
   "id": "8047c0e1",
   "metadata": {},
   "outputs": [
    {
     "data": {
      "text/plain": [
       "array(['2012', '2016', '2013', '2019', '2015', '2020', '2017', '2022'],\n",
       "      dtype=object)"
      ]
     },
     "execution_count": 59,
     "metadata": {},
     "output_type": "execute_result"
    }
   ],
   "source": [
    "df[\"season\"].unique()"
   ]
  },
  {
   "cell_type": "code",
   "execution_count": 60,
   "id": "58561e03",
   "metadata": {},
   "outputs": [],
   "source": [
    "df[\"season\"] = df[\"season\"].astype(int)"
   ]
  },
  {
   "cell_type": "code",
   "execution_count": 61,
   "id": "9fb47192",
   "metadata": {},
   "outputs": [
    {
     "data": {
      "text/plain": [
       "array([2012, 2016, 2013, 2019, 2015, 2020, 2017, 2022])"
      ]
     },
     "execution_count": 61,
     "metadata": {},
     "output_type": "execute_result"
    }
   ],
   "source": [
    "df[\"season\"].unique()"
   ]
  },
  {
   "cell_type": "code",
   "execution_count": 62,
   "id": "49617f70",
   "metadata": {},
   "outputs": [],
   "source": [
    "df['date'] = pd.to_datetime(df['date']).dt.date"
   ]
  },
  {
   "cell_type": "code",
   "execution_count": 63,
   "id": "6ae10b1b",
   "metadata": {},
   "outputs": [
    {
     "data": {
      "text/plain": [
       "<function ndarray.sort>"
      ]
     },
     "execution_count": 63,
     "metadata": {},
     "output_type": "execute_result"
    }
   ],
   "source": [
    "df[\"date\"].unique().sort"
   ]
  },
  {
   "cell_type": "code",
   "execution_count": 64,
   "id": "9a168762",
   "metadata": {},
   "outputs": [
    {
     "data": {
      "text/html": [
       "<div>\n",
       "<style scoped>\n",
       "    .dataframe tbody tr th:only-of-type {\n",
       "        vertical-align: middle;\n",
       "    }\n",
       "\n",
       "    .dataframe tbody tr th {\n",
       "        vertical-align: top;\n",
       "    }\n",
       "\n",
       "    .dataframe thead th {\n",
       "        text-align: right;\n",
       "    }\n",
       "</style>\n",
       "<table border=\"1\" class=\"dataframe\">\n",
       "  <thead>\n",
       "    <tr style=\"text-align: right;\">\n",
       "      <th></th>\n",
       "      <th>season</th>\n",
       "      <th>date</th>\n",
       "      <th>team_1</th>\n",
       "      <th>team_2</th>\n",
       "      <th>player_of_match</th>\n",
       "      <th>toss_winner</th>\n",
       "      <th>toss_decision</th>\n",
       "      <th>winner</th>\n",
       "      <th>venue</th>\n",
       "      <th>city</th>\n",
       "      <th>win_by_wickets</th>\n",
       "      <th>win_by_runs</th>\n",
       "      <th>umpire_1</th>\n",
       "      <th>umpire_2</th>\n",
       "      <th>team_1_run</th>\n",
       "      <th>team_1_wicket</th>\n",
       "      <th>team_2_run</th>\n",
       "      <th>team_2_wicket</th>\n",
       "      <th>Margin</th>\n",
       "      <th>WonBY</th>\n",
       "    </tr>\n",
       "  </thead>\n",
       "  <tbody>\n",
       "    <tr>\n",
       "      <th>0</th>\n",
       "      <td>2012</td>\n",
       "      <td>2012-02-29</td>\n",
       "      <td>Barishal</td>\n",
       "      <td>Dhaka</td>\n",
       "      <td>Imran Nazir</td>\n",
       "      <td>Dhaka</td>\n",
       "      <td>Field</td>\n",
       "      <td>Dhaka</td>\n",
       "      <td>Shere Bangla National Stadium, Mirpur</td>\n",
       "      <td>Dhaka</td>\n",
       "      <td>8</td>\n",
       "      <td>0</td>\n",
       "      <td>David Orchard</td>\n",
       "      <td>Enamul Haque</td>\n",
       "      <td>140</td>\n",
       "      <td>7</td>\n",
       "      <td>144</td>\n",
       "      <td>2</td>\n",
       "      <td>8</td>\n",
       "      <td>wickets</td>\n",
       "    </tr>\n",
       "    <tr>\n",
       "      <th>1</th>\n",
       "      <td>2012</td>\n",
       "      <td>2012-02-11</td>\n",
       "      <td>Khulna</td>\n",
       "      <td>Dhaka</td>\n",
       "      <td>Andre Russell</td>\n",
       "      <td>Khulna</td>\n",
       "      <td>Bat</td>\n",
       "      <td>Khulna</td>\n",
       "      <td>Shere Bangla National Stadium, Mirpur</td>\n",
       "      <td>Dhaka</td>\n",
       "      <td>0</td>\n",
       "      <td>19</td>\n",
       "      <td>Jeremy Lloyds</td>\n",
       "      <td>Sharfuddoula</td>\n",
       "      <td>175</td>\n",
       "      <td>5</td>\n",
       "      <td>156</td>\n",
       "      <td>7</td>\n",
       "      <td>19</td>\n",
       "      <td>runs</td>\n",
       "    </tr>\n",
       "    <tr>\n",
       "      <th>2</th>\n",
       "      <td>2012</td>\n",
       "      <td>2012-02-13</td>\n",
       "      <td>Barishal</td>\n",
       "      <td>Khulna</td>\n",
       "      <td>Dwayne Smith</td>\n",
       "      <td>Khulna</td>\n",
       "      <td>Field</td>\n",
       "      <td>Khulna</td>\n",
       "      <td>Shere Bangla National Stadium, Mirpur</td>\n",
       "      <td>Dhaka</td>\n",
       "      <td>7</td>\n",
       "      <td>0</td>\n",
       "      <td>Enamul Haque</td>\n",
       "      <td>Jeremy Lloyds</td>\n",
       "      <td>125</td>\n",
       "      <td>0</td>\n",
       "      <td>131</td>\n",
       "      <td>3</td>\n",
       "      <td>7</td>\n",
       "      <td>wickets</td>\n",
       "    </tr>\n",
       "    <tr>\n",
       "      <th>3</th>\n",
       "      <td>2012</td>\n",
       "      <td>2012-02-11</td>\n",
       "      <td>Barishal</td>\n",
       "      <td>Rajshahi</td>\n",
       "      <td>Ahmed Shehzad</td>\n",
       "      <td>Barishal</td>\n",
       "      <td>Bat</td>\n",
       "      <td>Barishal</td>\n",
       "      <td>Shere Bangla National Stadium, Mirpur</td>\n",
       "      <td>Dhaka</td>\n",
       "      <td>0</td>\n",
       "      <td>22</td>\n",
       "      <td>David Orchard</td>\n",
       "      <td>Gazi Sohel</td>\n",
       "      <td>180</td>\n",
       "      <td>2</td>\n",
       "      <td>158</td>\n",
       "      <td>9</td>\n",
       "      <td>22</td>\n",
       "      <td>runs</td>\n",
       "    </tr>\n",
       "    <tr>\n",
       "      <th>4</th>\n",
       "      <td>2012</td>\n",
       "      <td>2012-02-12</td>\n",
       "      <td>Khulna</td>\n",
       "      <td>Chittagong</td>\n",
       "      <td>Nasir Jamshed</td>\n",
       "      <td>Khulna</td>\n",
       "      <td>Bat</td>\n",
       "      <td>Chittagong</td>\n",
       "      <td>Shere Bangla National Stadium, Mirpur</td>\n",
       "      <td>Dhaka</td>\n",
       "      <td>6</td>\n",
       "      <td>0</td>\n",
       "      <td>David Orchard</td>\n",
       "      <td>Enamul Haque</td>\n",
       "      <td>171</td>\n",
       "      <td>3</td>\n",
       "      <td>174</td>\n",
       "      <td>4</td>\n",
       "      <td>6</td>\n",
       "      <td>wickets</td>\n",
       "    </tr>\n",
       "  </tbody>\n",
       "</table>\n",
       "</div>"
      ],
      "text/plain": [
       "   season        date    team_1      team_2 player_of_match toss_winner  \\\n",
       "0    2012  2012-02-29  Barishal       Dhaka     Imran Nazir       Dhaka   \n",
       "1    2012  2012-02-11    Khulna       Dhaka   Andre Russell      Khulna   \n",
       "2    2012  2012-02-13  Barishal      Khulna    Dwayne Smith      Khulna   \n",
       "3    2012  2012-02-11  Barishal    Rajshahi   Ahmed Shehzad    Barishal   \n",
       "4    2012  2012-02-12    Khulna  Chittagong   Nasir Jamshed      Khulna   \n",
       "\n",
       "  toss_decision      winner                                  venue   city  \\\n",
       "0         Field       Dhaka  Shere Bangla National Stadium, Mirpur  Dhaka   \n",
       "1           Bat      Khulna  Shere Bangla National Stadium, Mirpur  Dhaka   \n",
       "2         Field      Khulna  Shere Bangla National Stadium, Mirpur  Dhaka   \n",
       "3           Bat    Barishal  Shere Bangla National Stadium, Mirpur  Dhaka   \n",
       "4           Bat  Chittagong  Shere Bangla National Stadium, Mirpur  Dhaka   \n",
       "\n",
       "   win_by_wickets  win_by_runs       umpire_1       umpire_2  team_1_run  \\\n",
       "0               8            0  David Orchard   Enamul Haque         140   \n",
       "1               0           19  Jeremy Lloyds   Sharfuddoula         175   \n",
       "2               7            0   Enamul Haque  Jeremy Lloyds         125   \n",
       "3               0           22  David Orchard     Gazi Sohel         180   \n",
       "4               6            0  David Orchard   Enamul Haque         171   \n",
       "\n",
       "   team_1_wicket  team_2_run  team_2_wicket Margin    WonBY  \n",
       "0              7         144              2      8  wickets  \n",
       "1              5         156              7     19     runs  \n",
       "2              0         131              3      7  wickets  \n",
       "3              2         158              9     22     runs  \n",
       "4              3         174              4      6  wickets  "
      ]
     },
     "execution_count": 64,
     "metadata": {},
     "output_type": "execute_result"
    }
   ],
   "source": [
    "df.head()"
   ]
  },
  {
   "cell_type": "code",
   "execution_count": 65,
   "id": "1b4e25e5",
   "metadata": {},
   "outputs": [
    {
     "data": {
      "text/plain": [
       "wickets    157\n",
       "runs       144\n",
       "run          3\n",
       "wicket       1\n",
       "Name: WonBY, dtype: int64"
      ]
     },
     "execution_count": 65,
     "metadata": {},
     "output_type": "execute_result"
    }
   ],
   "source": [
    "df[\"WonBY\"].value_counts()"
   ]
  },
  {
   "cell_type": "code",
   "execution_count": 66,
   "id": "93fa2513",
   "metadata": {},
   "outputs": [],
   "source": [
    "wonby = {\n",
    "    \"Wickets\": ['wickets', 'wicket'], \n",
    "    \"Runs\": ['runs', 'run', 'the','4','6','9'] \n",
    "}\n"
   ]
  },
  {
   "cell_type": "code",
   "execution_count": 67,
   "id": "ceb77e5c",
   "metadata": {},
   "outputs": [],
   "source": [
    "for keys, values in wonby.items():\n",
    "    for name in values:\n",
    "        df['WonBY'].replace(name, keys, inplace=True)"
   ]
  },
  {
   "cell_type": "code",
   "execution_count": 68,
   "id": "0ad3133d",
   "metadata": {},
   "outputs": [
    {
     "data": {
      "text/plain": [
       "Wickets    158\n",
       "Runs       147\n",
       "Name: WonBY, dtype: int64"
      ]
     },
     "execution_count": 68,
     "metadata": {},
     "output_type": "execute_result"
    }
   ],
   "source": [
    "df[\"WonBY\"].value_counts()"
   ]
  },
  {
   "cell_type": "markdown",
   "id": "c9c6a34c",
   "metadata": {},
   "source": [
    "# Most number of matches in a Season"
   ]
  },
  {
   "cell_type": "code",
   "execution_count": 69,
   "id": "d5f1714f",
   "metadata": {},
   "outputs": [
    {
     "data": {
      "image/png": "[encoded data removed]",
      "text/plain": [
       "<Figure size 1080x360 with 1 Axes>"
      ]
     },
     "metadata": {
      "needs_background": "light"
     },
     "output_type": "display_data"
    }
   ],
   "source": [
    "plt.subplots(figsize = (15,5))\n",
    "sns.countplot(x='season', data=df)\n",
    "plt.show()"
   ]
  },
  {
   "cell_type": "markdown",
   "id": "1adfae7c",
   "metadata": {},
   "source": [
    "# winning percentage of each team"
   ]
  },
  {
   "cell_type": "code",
   "execution_count": 70,
   "id": "ed43e621",
   "metadata": {},
   "outputs": [],
   "source": [
    "win_percentage=(df[\"winner\"].value_counts()/(df[\"team_1\"].value_counts()+df[\"team_2\"].value_counts()))*100"
   ]
  },
  {
   "cell_type": "code",
   "execution_count": 71,
   "id": "26358bc8",
   "metadata": {},
   "outputs": [],
   "source": [
    "win_tb=pd.DataFrame({\n",
    "    'Team_Name': list(dict(win_percentage).keys()),\n",
    "    'Win Percentage': list(dict(win_percentage).values())\n",
    "})"
   ]
  },
  {
   "cell_type": "code",
   "execution_count": 72,
   "id": "6833debf",
   "metadata": {},
   "outputs": [
    {
     "data": {
      "text/html": [
       "<div>\n",
       "<style scoped>\n",
       "    .dataframe tbody tr th:only-of-type {\n",
       "        vertical-align: middle;\n",
       "    }\n",
       "\n",
       "    .dataframe tbody tr th {\n",
       "        vertical-align: top;\n",
       "    }\n",
       "\n",
       "    .dataframe thead th {\n",
       "        text-align: right;\n",
       "    }\n",
       "</style>\n",
       "<table border=\"1\" class=\"dataframe\">\n",
       "  <thead>\n",
       "    <tr style=\"text-align: right;\">\n",
       "      <th></th>\n",
       "      <th>Team_Name</th>\n",
       "      <th>Win Percentage</th>\n",
       "    </tr>\n",
       "  </thead>\n",
       "  <tbody>\n",
       "    <tr>\n",
       "      <th>1</th>\n",
       "      <td>Chittagong</td>\n",
       "      <td>64.5</td>\n",
       "    </tr>\n",
       "    <tr>\n",
       "      <th>2</th>\n",
       "      <td>Comilla</td>\n",
       "      <td>62.1</td>\n",
       "    </tr>\n",
       "    <tr>\n",
       "      <th>3</th>\n",
       "      <td>Dhaka</td>\n",
       "      <td>60.4</td>\n",
       "    </tr>\n",
       "    <tr>\n",
       "      <th>6</th>\n",
       "      <td>Rangpur</td>\n",
       "      <td>51.3</td>\n",
       "    </tr>\n",
       "    <tr>\n",
       "      <th>0</th>\n",
       "      <td>Barishal</td>\n",
       "      <td>50.9</td>\n",
       "    </tr>\n",
       "    <tr>\n",
       "      <th>7</th>\n",
       "      <td>Sylhet</td>\n",
       "      <td>46.4</td>\n",
       "    </tr>\n",
       "    <tr>\n",
       "      <th>4</th>\n",
       "      <td>Khulna</td>\n",
       "      <td>45.6</td>\n",
       "    </tr>\n",
       "    <tr>\n",
       "      <th>5</th>\n",
       "      <td>Rajshahi</td>\n",
       "      <td>15.4</td>\n",
       "    </tr>\n",
       "  </tbody>\n",
       "</table>\n",
       "</div>"
      ],
      "text/plain": [
       "    Team_Name  Win Percentage\n",
       "1  Chittagong            64.5\n",
       "2     Comilla            62.1\n",
       "3       Dhaka            60.4\n",
       "6     Rangpur            51.3\n",
       "0    Barishal            50.9\n",
       "7      Sylhet            46.4\n",
       "4      Khulna            45.6\n",
       "5    Rajshahi            15.4"
      ]
     },
     "execution_count": 72,
     "metadata": {},
     "output_type": "execute_result"
    }
   ],
   "source": [
    "win_tb.sort_values( by = 'Win Percentage' , ascending = False , inplace = True)\n",
    "np.round(win_tb, decimals=1)"
   ]
  },
  {
   "cell_type": "markdown",
   "id": "0a23f6a3",
   "metadata": {},
   "source": [
    "# The venue that hosted the maximum number of matches"
   ]
  },
  {
   "cell_type": "code",
   "execution_count": 73,
   "id": "19c9319a",
   "metadata": {},
   "outputs": [],
   "source": [
    "venue_ser = df['venue'].value_counts()\n",
    "venue_df = pd.DataFrame(columns=['venue', 'matches'])\n",
    "count = 0\n",
    "for items in venue_ser.iteritems():\n",
    "    if count>9:\n",
    "        break\n",
    "    else:\n",
    "        temp_df = pd.DataFrame({\n",
    "            'venue':[items[0]],\n",
    "            'matches':[items[1]]\n",
    "        })\n",
    "        venue_df = pd.concat([venue_df,temp_df],axis=0,ignore_index=True)\n",
    "        count += 1  "
   ]
  },
  {
   "cell_type": "code",
   "execution_count": 74,
   "id": "a02d9e54",
   "metadata": {},
   "outputs": [
    {
     "data": {
      "text/html": [
       "<div>\n",
       "<style scoped>\n",
       "    .dataframe tbody tr th:only-of-type {\n",
       "        vertical-align: middle;\n",
       "    }\n",
       "\n",
       "    .dataframe tbody tr th {\n",
       "        vertical-align: top;\n",
       "    }\n",
       "\n",
       "    .dataframe thead th {\n",
       "        text-align: right;\n",
       "    }\n",
       "</style>\n",
       "<table border=\"1\" class=\"dataframe\">\n",
       "  <thead>\n",
       "    <tr style=\"text-align: right;\">\n",
       "      <th></th>\n",
       "      <th>venue</th>\n",
       "      <th>matches</th>\n",
       "    </tr>\n",
       "  </thead>\n",
       "  <tbody>\n",
       "    <tr>\n",
       "      <th>0</th>\n",
       "      <td>Shere Bangla National Stadium, Mirpur</td>\n",
       "      <td>200</td>\n",
       "    </tr>\n",
       "    <tr>\n",
       "      <th>1</th>\n",
       "      <td>Zahur Ahmed Chowdhury Stadium, Chittagong</td>\n",
       "      <td>36</td>\n",
       "    </tr>\n",
       "    <tr>\n",
       "      <th>2</th>\n",
       "      <td>Zahur Ahmed Chowdhury Stadium, Chattogram</td>\n",
       "      <td>30</td>\n",
       "    </tr>\n",
       "    <tr>\n",
       "      <th>3</th>\n",
       "      <td>Sylhet International Cricket Stadium</td>\n",
       "      <td>21</td>\n",
       "    </tr>\n",
       "    <tr>\n",
       "      <th>4</th>\n",
       "      <td>MA Aziz Stadium, Chittagong</td>\n",
       "      <td>10</td>\n",
       "    </tr>\n",
       "    <tr>\n",
       "      <th>5</th>\n",
       "      <td>Sheikh Abu Naser Stadium, Khulna</td>\n",
       "      <td>8</td>\n",
       "    </tr>\n",
       "  </tbody>\n",
       "</table>\n",
       "</div>"
      ],
      "text/plain": [
       "                                       venue matches\n",
       "0      Shere Bangla National Stadium, Mirpur     200\n",
       "1  Zahur Ahmed Chowdhury Stadium, Chittagong      36\n",
       "2  Zahur Ahmed Chowdhury Stadium, Chattogram      30\n",
       "3       Sylhet International Cricket Stadium      21\n",
       "4                MA Aziz Stadium, Chittagong      10\n",
       "5           Sheikh Abu Naser Stadium, Khulna       8"
      ]
     },
     "execution_count": 74,
     "metadata": {},
     "output_type": "execute_result"
    }
   ],
   "source": [
    "venue_df"
   ]
  },
  {
   "cell_type": "code",
   "execution_count": 75,
   "id": "167c7b38",
   "metadata": {},
   "outputs": [
    {
     "data": {
      "image/png": "[encoded data removed]",
      "text/plain": [
       "<Figure size 720x360 with 1 Axes>"
      ]
     },
     "metadata": {
      "needs_background": "light"
     },
     "output_type": "display_data"
    }
   ],
   "source": [
    "plt.subplots(figsize = (10,5))\n",
    "sns.countplot(y='venue', data=df)\n",
    "plt.show()"
   ]
  },
  {
   "cell_type": "markdown",
   "id": "f64c02df",
   "metadata": {},
   "source": [
    "# Most Valuable Player In BPL"
   ]
  },
  {
   "cell_type": "code",
   "execution_count": 76,
   "id": "38c397b6",
   "metadata": {},
   "outputs": [],
   "source": [
    "mvp_ser = df[\"player_of_match\"].value_counts()\n",
    "\n",
    "mvp_ten_df = pd.DataFrame(columns=[\"Player\", \"Wins\"])\n",
    "count = 0\n",
    "for items in mvp_ser.iteritems():\n",
    "    if count>9:\n",
    "        break\n",
    "    else:\n",
    "        temp_df2 = pd.DataFrame({\n",
    "            'Player':[items[0]],\n",
    "            'Wins':[items[1]]\n",
    "        })\n",
    "        mvp_ten_df = pd.concat([mvp_ten_df,temp_df2],axis=0,ignore_index=True)\n",
    "        count += 1    "
   ]
  },
  {
   "cell_type": "code",
   "execution_count": 77,
   "id": "01490b55",
   "metadata": {},
   "outputs": [
    {
     "data": {
      "text/html": [
       "<div>\n",
       "<style scoped>\n",
       "    .dataframe tbody tr th:only-of-type {\n",
       "        vertical-align: middle;\n",
       "    }\n",
       "\n",
       "    .dataframe tbody tr th {\n",
       "        vertical-align: top;\n",
       "    }\n",
       "\n",
       "    .dataframe thead th {\n",
       "        text-align: right;\n",
       "    }\n",
       "</style>\n",
       "<table border=\"1\" class=\"dataframe\">\n",
       "  <thead>\n",
       "    <tr style=\"text-align: right;\">\n",
       "      <th></th>\n",
       "      <th>Player</th>\n",
       "      <th>Wins</th>\n",
       "    </tr>\n",
       "  </thead>\n",
       "  <tbody>\n",
       "    <tr>\n",
       "      <th>0</th>\n",
       "      <td>Shakib Al Hasan</td>\n",
       "      <td>11</td>\n",
       "    </tr>\n",
       "    <tr>\n",
       "      <th>1</th>\n",
       "      <td>Mahmudullah</td>\n",
       "      <td>9</td>\n",
       "    </tr>\n",
       "    <tr>\n",
       "      <th>2</th>\n",
       "      <td>Shahid Afridi</td>\n",
       "      <td>7</td>\n",
       "    </tr>\n",
       "    <tr>\n",
       "      <th>3</th>\n",
       "      <td>Chris Gayle</td>\n",
       "      <td>7</td>\n",
       "    </tr>\n",
       "    <tr>\n",
       "      <th>4</th>\n",
       "      <td>Mushfiqur Rahim</td>\n",
       "      <td>7</td>\n",
       "    </tr>\n",
       "    <tr>\n",
       "      <th>5</th>\n",
       "      <td>Evin Lewis</td>\n",
       "      <td>6</td>\n",
       "    </tr>\n",
       "    <tr>\n",
       "      <th>6</th>\n",
       "      <td>Andre Russell</td>\n",
       "      <td>6</td>\n",
       "    </tr>\n",
       "    <tr>\n",
       "      <th>7</th>\n",
       "      <td>Tamim Iqbal</td>\n",
       "      <td>6</td>\n",
       "    </tr>\n",
       "    <tr>\n",
       "      <th>8</th>\n",
       "      <td>Ravi Bopara</td>\n",
       "      <td>5</td>\n",
       "    </tr>\n",
       "    <tr>\n",
       "      <th>9</th>\n",
       "      <td>Daren Sammy</td>\n",
       "      <td>5</td>\n",
       "    </tr>\n",
       "  </tbody>\n",
       "</table>\n",
       "</div>"
      ],
      "text/plain": [
       "            Player Wins\n",
       "0  Shakib Al Hasan   11\n",
       "1      Mahmudullah    9\n",
       "2    Shahid Afridi    7\n",
       "3      Chris Gayle    7\n",
       "4  Mushfiqur Rahim    7\n",
       "5       Evin Lewis    6\n",
       "6    Andre Russell    6\n",
       "7      Tamim Iqbal    6\n",
       "8      Ravi Bopara    5\n",
       "9      Daren Sammy    5"
      ]
     },
     "execution_count": 77,
     "metadata": {},
     "output_type": "execute_result"
    }
   ],
   "source": [
    "mvp_ten_df"
   ]
  },
  {
   "cell_type": "code",
   "execution_count": 78,
   "id": "3e46d469",
   "metadata": {},
   "outputs": [
    {
     "data": {
      "image/png": "[encoded data removed]",
      "text/plain": [
       "<Figure size 720x432 with 1 Axes>"
      ]
     },
     "metadata": {
      "needs_background": "light"
     },
     "output_type": "display_data"
    }
   ],
   "source": [
    "plt.figure(figsize=(10,6))\n",
    "plt.title(\"Top Ten IPL Players\")\n",
    "sns.barplot(x='Wins', y='Player', data=mvp_ten_df, palette='Paired');"
   ]
  },
  {
   "cell_type": "markdown",
   "id": "644906a4",
   "metadata": {},
   "source": [
    "# successful BPL team"
   ]
  },
  {
   "cell_type": "code",
   "execution_count": 79,
   "id": "70f03997",
   "metadata": {},
   "outputs": [],
   "source": [
    "team_wins_ser = df[\"winner\"].value_counts()\n",
    "team_wins_df = pd.DataFrame(columns=[\"Team\", \"Wins\"])\n",
    "for items in team_wins_ser.iteritems():\n",
    "    temp_df1 = pd.DataFrame({\n",
    "        'Team':[items[0]],\n",
    "        'Wins':[items[1]]\n",
    "    })\n",
    "    team_wins_df =pd.concat([team_wins_df,temp_df1],axis=0,ignore_index=True)"
   ]
  },
  {
   "cell_type": "code",
   "execution_count": 80,
   "id": "1242ed03",
   "metadata": {},
   "outputs": [
    {
     "data": {
      "text/html": [
       "<div>\n",
       "<style scoped>\n",
       "    .dataframe tbody tr th:only-of-type {\n",
       "        vertical-align: middle;\n",
       "    }\n",
       "\n",
       "    .dataframe tbody tr th {\n",
       "        vertical-align: top;\n",
       "    }\n",
       "\n",
       "    .dataframe thead th {\n",
       "        text-align: right;\n",
       "    }\n",
       "</style>\n",
       "<table border=\"1\" class=\"dataframe\">\n",
       "  <thead>\n",
       "    <tr style=\"text-align: right;\">\n",
       "      <th></th>\n",
       "      <th>Team</th>\n",
       "      <th>Wins</th>\n",
       "    </tr>\n",
       "  </thead>\n",
       "  <tbody>\n",
       "    <tr>\n",
       "      <th>0</th>\n",
       "      <td>Chittagong</td>\n",
       "      <td>60</td>\n",
       "    </tr>\n",
       "    <tr>\n",
       "      <th>1</th>\n",
       "      <td>Dhaka</td>\n",
       "      <td>58</td>\n",
       "    </tr>\n",
       "    <tr>\n",
       "      <th>2</th>\n",
       "      <td>Comilla</td>\n",
       "      <td>41</td>\n",
       "    </tr>\n",
       "    <tr>\n",
       "      <th>3</th>\n",
       "      <td>Rangpur</td>\n",
       "      <td>39</td>\n",
       "    </tr>\n",
       "    <tr>\n",
       "      <th>4</th>\n",
       "      <td>Khulna</td>\n",
       "      <td>36</td>\n",
       "    </tr>\n",
       "    <tr>\n",
       "      <th>5</th>\n",
       "      <td>Sylhet</td>\n",
       "      <td>32</td>\n",
       "    </tr>\n",
       "    <tr>\n",
       "      <th>6</th>\n",
       "      <td>Barishal</td>\n",
       "      <td>27</td>\n",
       "    </tr>\n",
       "    <tr>\n",
       "      <th>7</th>\n",
       "      <td>Rajshahi</td>\n",
       "      <td>12</td>\n",
       "    </tr>\n",
       "  </tbody>\n",
       "</table>\n",
       "</div>"
      ],
      "text/plain": [
       "         Team Wins\n",
       "0  Chittagong   60\n",
       "1       Dhaka   58\n",
       "2     Comilla   41\n",
       "3     Rangpur   39\n",
       "4      Khulna   36\n",
       "5      Sylhet   32\n",
       "6    Barishal   27\n",
       "7    Rajshahi   12"
      ]
     },
     "execution_count": 80,
     "metadata": {},
     "output_type": "execute_result"
    }
   ],
   "source": [
    "team_wins_df"
   ]
  },
  {
   "cell_type": "code",
   "execution_count": 81,
   "id": "ac7d39bf",
   "metadata": {},
   "outputs": [
    {
     "data": {
      "image/png": "[encoded data removed]",
      "text/plain": [
       "<Figure size 720x432 with 1 Axes>"
      ]
     },
     "metadata": {
      "needs_background": "light"
     },
     "output_type": "display_data"
    }
   ],
   "source": [
    "plt.figure(figsize=(10,6))\n",
    "plt.title(\"Top Ten IPL Players\")\n",
    "sns.barplot(x='Wins', y='Team', data=team_wins_df, palette='Paired');"
   ]
  },
  {
   "cell_type": "code",
   "execution_count": 82,
   "id": "655f1e8e",
   "metadata": {},
   "outputs": [
    {
     "data": {
      "image/png": "[encoded data removed]",
      "text/plain": [
       "<Figure size 1080x432 with 1 Axes>"
      ]
     },
     "metadata": {
      "needs_background": "light"
     },
     "output_type": "display_data"
    }
   ],
   "source": [
    "plt.figure(figsize=(15,6))\n",
    "plt.title('Over all winning',size=15,fontweight='bold')\n",
    "plt.xticks(rotation = 90)\n",
    "plt.grid(visible=True)\n",
    "ax=sns.countplot(data=df,x='winner',hue='WonBY')\n",
    "for i in ax.containers:\n",
    "    ax.bar_label(i,)"
   ]
  },
  {
   "cell_type": "markdown",
   "id": "e9c3bc44",
   "metadata": {},
   "source": [
    "# The team that won the most number of toss"
   ]
  },
  {
   "cell_type": "code",
   "execution_count": 85,
   "id": "17707934",
   "metadata": {},
   "outputs": [],
   "source": [
    "toss_ser=df[\"toss_winner\"].value_counts()\n",
    "toss_wins_df = pd.DataFrame(columns=[\"Team\", \"Wins\"])\n",
    "for items in toss_ser.iteritems():\n",
    "    toss_df = pd.DataFrame({\n",
    "        'Team':[items[0]],\n",
    "        'Wins':[items[1]]\n",
    "    })\n",
    "    toss_wins_df =pd.concat([toss_wins_df,toss_df],axis=0,ignore_index=True)"
   ]
  },
  {
   "cell_type": "code",
   "execution_count": 86,
   "id": "f4121c5f",
   "metadata": {},
   "outputs": [
    {
     "data": {
      "text/html": [
       "<div>\n",
       "<style scoped>\n",
       "    .dataframe tbody tr th:only-of-type {\n",
       "        vertical-align: middle;\n",
       "    }\n",
       "\n",
       "    .dataframe tbody tr th {\n",
       "        vertical-align: top;\n",
       "    }\n",
       "\n",
       "    .dataframe thead th {\n",
       "        text-align: right;\n",
       "    }\n",
       "</style>\n",
       "<table border=\"1\" class=\"dataframe\">\n",
       "  <thead>\n",
       "    <tr style=\"text-align: right;\">\n",
       "      <th></th>\n",
       "      <th>Team</th>\n",
       "      <th>Wins</th>\n",
       "    </tr>\n",
       "  </thead>\n",
       "  <tbody>\n",
       "    <tr>\n",
       "      <th>0</th>\n",
       "      <td>Dhaka</td>\n",
       "      <td>46</td>\n",
       "    </tr>\n",
       "    <tr>\n",
       "      <th>1</th>\n",
       "      <td>Khulna</td>\n",
       "      <td>46</td>\n",
       "    </tr>\n",
       "    <tr>\n",
       "      <th>2</th>\n",
       "      <td>Rajshahi</td>\n",
       "      <td>42</td>\n",
       "    </tr>\n",
       "    <tr>\n",
       "      <th>3</th>\n",
       "      <td>Rangpur</td>\n",
       "      <td>40</td>\n",
       "    </tr>\n",
       "    <tr>\n",
       "      <th>4</th>\n",
       "      <td>Chittagong</td>\n",
       "      <td>38</td>\n",
       "    </tr>\n",
       "    <tr>\n",
       "      <th>5</th>\n",
       "      <td>Comilla</td>\n",
       "      <td>34</td>\n",
       "    </tr>\n",
       "    <tr>\n",
       "      <th>6</th>\n",
       "      <td>Sylhet</td>\n",
       "      <td>31</td>\n",
       "    </tr>\n",
       "    <tr>\n",
       "      <th>7</th>\n",
       "      <td>Barishal</td>\n",
       "      <td>28</td>\n",
       "    </tr>\n",
       "  </tbody>\n",
       "</table>\n",
       "</div>"
      ],
      "text/plain": [
       "         Team Wins\n",
       "0       Dhaka   46\n",
       "1      Khulna   46\n",
       "2    Rajshahi   42\n",
       "3     Rangpur   40\n",
       "4  Chittagong   38\n",
       "5     Comilla   34\n",
       "6      Sylhet   31\n",
       "7    Barishal   28"
      ]
     },
     "execution_count": 86,
     "metadata": {},
     "output_type": "execute_result"
    }
   ],
   "source": [
    "toss_wins_df"
   ]
  },
  {
   "cell_type": "code",
   "execution_count": 87,
   "id": "6d5f1f0f",
   "metadata": {},
   "outputs": [
    {
     "data": {
      "image/png": "[encoded data removed]",
      "text/plain": [
       "<Figure size 720x432 with 1 Axes>"
      ]
     },
     "metadata": {
      "needs_background": "light"
     },
     "output_type": "display_data"
    }
   ],
   "source": [
    "plt.figure(figsize=(10,6))\n",
    "plt.title(\"The team that won the most number of toss\")\n",
    "sns.barplot(x='Wins', y='Team', data=toss_wins_df, palette='Paired');"
   ]
  },
  {
   "cell_type": "markdown",
   "id": "2b04a334",
   "metadata": {},
   "source": [
    "# Decision made after winning the toss"
   ]
  },
  {
   "cell_type": "code",
   "execution_count": 91,
   "id": "e25bd964",
   "metadata": {},
   "outputs": [
    {
     "data": {
      "application/vnd.plotly.v1+json": {
       "config": {
        "plotlyServerURL": "https://plot.ly"
       },
       "data": [
        {
         "hole": 0.3,
         "hoverinfo": "label+percent",
         "labels": [
          "Field",
          "Bat"
         ],
         "marker": {
          "colors": [
           "turquoise",
           "crimson"
          ],
          "line": {
           "color": "#000000",
           "width": 1
          }
         },
         "textfont": {
          "size": 12
         },
         "textinfo": "label+percent",
         "type": "pie",
         "values": [
          66.22950819672131,
          33.77049180327869
         ]
        }
       ],
       "layout": {
        "template": {
         "data": {
          "bar": [
           {
            "error_x": {
             "color": "#2a3f5f"
            },
            "error_y": {
             "color": "#2a3f5f"
            },
            "marker": {
             "line": {
              "color": "#E5ECF6",
              "width": 0.5
             },
             "pattern": {
              "fillmode": "overlay",
              "size": 10,
              "solidity": 0.2
             }
            },
            "type": "bar"
           }
          ],
          "barpolar": [
           {
            "marker": {
             "line": {
              "color": "#E5ECF6",
              "width": 0.5
             },
             "pattern": {
              "fillmode": "overlay",
              "size": 10,
              "solidity": 0.2
             }
            },
            "type": "barpolar"
           }
          ],
          "carpet": [
           {
            "aaxis": {
             "endlinecolor": "#2a3f5f",
             "gridcolor": "white",
             "linecolor": "white",
             "minorgridcolor": "white",
             "startlinecolor": "#2a3f5f"
            },
            "baxis": {
             "endlinecolor": "#2a3f5f",
             "gridcolor": "white",
             "linecolor": "white",
             "minorgridcolor": "white",
             "startlinecolor": "#2a3f5f"
            },
            "type": "carpet"
           }
          ],
          "choropleth": [
           {
            "colorbar": {
             "outlinewidth": 0,
             "ticks": ""
            },
            "type": "choropleth"
           }
          ],
          "contour": [
           {
            "colorbar": {
             "outlinewidth": 0,
             "ticks": ""
            },
            "colorscale": [
             [
              0,
              "#0d0887"
             ],
             [
              0.1111111111111111,
              "#46039f"
             ],
             [
              0.2222222222222222,
              "#7201a8"
             ],
             [
              0.3333333333333333,
              "#9c179e"
             ],
             [
              0.4444444444444444,
              "#bd3786"
             ],
             [
              0.5555555555555556,
              "#d8576b"
             ],
             [
              0.6666666666666666,
              "#ed7953"
             ],
             [
              0.7777777777777778,
              "#fb9f3a"
             ],
             [
              0.8888888888888888,
              "#fdca26"
             ],
             [
              1,
              "#f0f921"
             ]
            ],
            "type": "contour"
           }
          ],
          "contourcarpet": [
           {
            "colorbar": {
             "outlinewidth": 0,
             "ticks": ""
            },
            "type": "contourcarpet"
           }
          ],
          "heatmap": [
           {
            "colorbar": {
             "outlinewidth": 0,
             "ticks": ""
            },
            "colorscale": [
             [
              0,
              "#0d0887"
             ],
             [
              0.1111111111111111,
              "#46039f"
             ],
             [
              0.2222222222222222,
              "#7201a8"
             ],
             [
              0.3333333333333333,
              "#9c179e"
             ],
             [
              0.4444444444444444,
              "#bd3786"
             ],
             [
              0.5555555555555556,
              "#d8576b"
             ],
             [
              0.6666666666666666,
              "#ed7953"
             ],
             [
              0.7777777777777778,
              "#fb9f3a"
             ],
             [
              0.8888888888888888,
              "#fdca26"
             ],
             [
              1,
              "#f0f921"
             ]
            ],
            "type": "heatmap"
           }
          ],
          "heatmapgl": [
           {
            "colorbar": {
             "outlinewidth": 0,
             "ticks": ""
            },
            "colorscale": [
             [
              0,
              "#0d0887"
             ],
             [
              0.1111111111111111,
              "#46039f"
             ],
             [
              0.2222222222222222,
              "#7201a8"
             ],
             [
              0.3333333333333333,
              "#9c179e"
             ],
             [
              0.4444444444444444,
              "#bd3786"
             ],
             [
              0.5555555555555556,
              "#d8576b"
             ],
             [
              0.6666666666666666,
              "#ed7953"
             ],
             [
              0.7777777777777778,
              "#fb9f3a"
             ],
             [
              0.8888888888888888,
              "#fdca26"
             ],
             [
              1,
              "#f0f921"
             ]
            ],
            "type": "heatmapgl"
           }
          ],
          "histogram": [
           {
            "marker": {
             "pattern": {
              "fillmode": "overlay",
              "size": 10,
              "solidity": 0.2
             }
            },
            "type": "histogram"
           }
          ],
          "histogram2d": [
           {
            "colorbar": {
             "outlinewidth": 0,
             "ticks": ""
            },
            "colorscale": [
             [
              0,
              "#0d0887"
             ],
             [
              0.1111111111111111,
              "#46039f"
             ],
             [
              0.2222222222222222,
              "#7201a8"
             ],
             [
              0.3333333333333333,
              "#9c179e"
             ],
             [
              0.4444444444444444,
              "#bd3786"
             ],
             [
              0.5555555555555556,
              "#d8576b"
             ],
             [
              0.6666666666666666,
              "#ed7953"
             ],
             [
              0.7777777777777778,
              "#fb9f3a"
             ],
             [
              0.8888888888888888,
              "#fdca26"
             ],
             [
              1,
              "#f0f921"
             ]
            ],
            "type": "histogram2d"
           }
          ],
          "histogram2dcontour": [
           {
            "colorbar": {
             "outlinewidth": 0,
             "ticks": ""
            },
            "colorscale": [
             [
              0,
              "#0d0887"
             ],
             [
              0.1111111111111111,
              "#46039f"
             ],
             [
              0.2222222222222222,
              "#7201a8"
             ],
             [
              0.3333333333333333,
              "#9c179e"
             ],
             [
              0.4444444444444444,
              "#bd3786"
             ],
             [
              0.5555555555555556,
              "#d8576b"
             ],
             [
              0.6666666666666666,
              "#ed7953"
             ],
             [
              0.7777777777777778,
              "#fb9f3a"
             ],
             [
              0.8888888888888888,
              "#fdca26"
             ],
             [
              1,
              "#f0f921"
             ]
            ],
            "type": "histogram2dcontour"
           }
          ],
          "mesh3d": [
           {
            "colorbar": {
             "outlinewidth": 0,
             "ticks": ""
            },
            "type": "mesh3d"
           }
          ],
          "parcoords": [
           {
            "line": {
             "colorbar": {
              "outlinewidth": 0,
              "ticks": ""
             }
            },
            "type": "parcoords"
           }
          ],
          "pie": [
           {
            "automargin": true,
            "type": "pie"
           }
          ],
          "scatter": [
           {
            "fillpattern": {
             "fillmode": "overlay",
             "size": 10,
             "solidity": 0.2
            },
            "type": "scatter"
           }
          ],
          "scatter3d": [
           {
            "line": {
             "colorbar": {
              "outlinewidth": 0,
              "ticks": ""
             }
            },
            "marker": {
             "colorbar": {
              "outlinewidth": 0,
              "ticks": ""
             }
            },
            "type": "scatter3d"
           }
          ],
          "scattercarpet": [
           {
            "marker": {
             "colorbar": {
              "outlinewidth": 0,
              "ticks": ""
             }
            },
            "type": "scattercarpet"
           }
          ],
          "scattergeo": [
           {
            "marker": {
             "colorbar": {
              "outlinewidth": 0,
              "ticks": ""
             }
            },
            "type": "scattergeo"
           }
          ],
          "scattergl": [
           {
            "marker": {
             "colorbar": {
              "outlinewidth": 0,
              "ticks": ""
             }
            },
            "type": "scattergl"
           }
          ],
          "scattermapbox": [
           {
            "marker": {
             "colorbar": {
              "outlinewidth": 0,
              "ticks": ""
             }
            },
            "type": "scattermapbox"
           }
          ],
          "scatterpolar": [
           {
            "marker": {
             "colorbar": {
              "outlinewidth": 0,
              "ticks": ""
             }
            },
            "type": "scatterpolar"
           }
          ],
          "scatterpolargl": [
           {
            "marker": {
             "colorbar": {
              "outlinewidth": 0,
              "ticks": ""
             }
            },
            "type": "scatterpolargl"
           }
          ],
          "scatterternary": [
           {
            "marker": {
             "colorbar": {
              "outlinewidth": 0,
              "ticks": ""
             }
            },
            "type": "scatterternary"
           }
          ],
          "surface": [
           {
            "colorbar": {
             "outlinewidth": 0,
             "ticks": ""
            },
            "colorscale": [
             [
              0,
              "#0d0887"
             ],
             [
              0.1111111111111111,
              "#46039f"
             ],
             [
              0.2222222222222222,
              "#7201a8"
             ],
             [
              0.3333333333333333,
              "#9c179e"
             ],
             [
              0.4444444444444444,
              "#bd3786"
             ],
             [
              0.5555555555555556,
              "#d8576b"
             ],
             [
              0.6666666666666666,
              "#ed7953"
             ],
             [
              0.7777777777777778,
              "#fb9f3a"
             ],
             [
              0.8888888888888888,
              "#fdca26"
             ],
             [
              1,
              "#f0f921"
             ]
            ],
            "type": "surface"
           }
          ],
          "table": [
           {
            "cells": {
             "fill": {
              "color": "#EBF0F8"
             },
             "line": {
              "color": "white"
             }
            },
            "header": {
             "fill": {
              "color": "#C8D4E3"
             },
             "line": {
              "color": "white"
             }
            },
            "type": "table"
           }
          ]
         },
         "layout": {
          "annotationdefaults": {
           "arrowcolor": "#2a3f5f",
           "arrowhead": 0,
           "arrowwidth": 1
          },
          "autotypenumbers": "strict",
          "coloraxis": {
           "colorbar": {
            "outlinewidth": 0,
            "ticks": ""
           }
          },
          "colorscale": {
           "diverging": [
            [
             0,
             "#8e0152"
            ],
            [
             0.1,
             "#c51b7d"
            ],
            [
             0.2,
             "#de77ae"
            ],
            [
             0.3,
             "#f1b6da"
            ],
            [
             0.4,
             "#fde0ef"
            ],
            [
             0.5,
             "#f7f7f7"
            ],
            [
             0.6,
             "#e6f5d0"
            ],
            [
             0.7,
             "#b8e186"
            ],
            [
             0.8,
             "#7fbc41"
            ],
            [
             0.9,
             "#4d9221"
            ],
            [
             1,
             "#276419"
            ]
           ],
           "sequential": [
            [
             0,
             "#0d0887"
            ],
            [
             0.1111111111111111,
             "#46039f"
            ],
            [
             0.2222222222222222,
             "#7201a8"
            ],
            [
             0.3333333333333333,
             "#9c179e"
            ],
            [
             0.4444444444444444,
             "#bd3786"
            ],
            [
             0.5555555555555556,
             "#d8576b"
            ],
            [
             0.6666666666666666,
             "#ed7953"
            ],
            [
             0.7777777777777778,
             "#fb9f3a"
            ],
            [
             0.8888888888888888,
             "#fdca26"
            ],
            [
             1,
             "#f0f921"
            ]
           ],
           "sequentialminus": [
            [
             0,
             "#0d0887"
            ],
            [
             0.1111111111111111,
             "#46039f"
            ],
            [
             0.2222222222222222,
             "#7201a8"
            ],
            [
             0.3333333333333333,
             "#9c179e"
            ],
            [
             0.4444444444444444,
             "#bd3786"
            ],
            [
             0.5555555555555556,
             "#d8576b"
            ],
            [
             0.6666666666666666,
             "#ed7953"
            ],
            [
             0.7777777777777778,
             "#fb9f3a"
            ],
            [
             0.8888888888888888,
             "#fdca26"
            ],
            [
             1,
             "#f0f921"
            ]
           ]
          },
          "colorway": [
           "#636efa",
           "#EF553B",
           "#00cc96",
           "#ab63fa",
           "#FFA15A",
           "#19d3f3",
           "#FF6692",
           "#B6E880",
           "#FF97FF",
           "#FECB52"
          ],
          "font": {
           "color": "#2a3f5f"
          },
          "geo": {
           "bgcolor": "white",
           "lakecolor": "white",
           "landcolor": "#E5ECF6",
           "showlakes": true,
           "showland": true,
           "subunitcolor": "white"
          },
          "hoverlabel": {
           "align": "left"
          },
          "hovermode": "closest",
          "mapbox": {
           "style": "light"
          },
          "paper_bgcolor": "white",
          "plot_bgcolor": "#E5ECF6",
          "polar": {
           "angularaxis": {
            "gridcolor": "white",
            "linecolor": "white",
            "ticks": ""
           },
           "bgcolor": "#E5ECF6",
           "radialaxis": {
            "gridcolor": "white",
            "linecolor": "white",
            "ticks": ""
           }
          },
          "scene": {
           "xaxis": {
            "backgroundcolor": "#E5ECF6",
            "gridcolor": "white",
            "gridwidth": 2,
            "linecolor": "white",
            "showbackground": true,
            "ticks": "",
            "zerolinecolor": "white"
           },
           "yaxis": {
            "backgroundcolor": "#E5ECF6",
            "gridcolor": "white",
            "gridwidth": 2,
            "linecolor": "white",
            "showbackground": true,
            "ticks": "",
            "zerolinecolor": "white"
           },
           "zaxis": {
            "backgroundcolor": "#E5ECF6",
            "gridcolor": "white",
            "gridwidth": 2,
            "linecolor": "white",
            "showbackground": true,
            "ticks": "",
            "zerolinecolor": "white"
           }
          },
          "shapedefaults": {
           "line": {
            "color": "#2a3f5f"
           }
          },
          "ternary": {
           "aaxis": {
            "gridcolor": "white",
            "linecolor": "white",
            "ticks": ""
           },
           "baxis": {
            "gridcolor": "white",
            "linecolor": "white",
            "ticks": ""
           },
           "bgcolor": "#E5ECF6",
           "caxis": {
            "gridcolor": "white",
            "linecolor": "white",
            "ticks": ""
           }
          },
          "title": {
           "x": 0.05
          },
          "xaxis": {
           "automargin": true,
           "gridcolor": "white",
           "linecolor": "white",
           "ticks": "",
           "title": {
            "standoff": 15
           },
           "zerolinecolor": "white",
           "zerolinewidth": 2
          },
          "yaxis": {
           "automargin": true,
           "gridcolor": "white",
           "linecolor": "white",
           "ticks": "",
           "title": {
            "standoff": 15
           },
           "zerolinecolor": "white",
           "zerolinewidth": 2
          }
         }
        },
        "title": {
         "font": {
          "size": 18
         },
         "text": "Toss decision percentage"
        }
       }
      },
      "text/html": [
       "<div>                            <div id=\"5ab34b97-c9db-4db9-9858-dc011340b290\" class=\"plotly-graph-div\" style=\"height:525px; width:100%;\"></div>            <script type=\"text/javascript\">                require([\"plotly\"], function(Plotly) {                    window.PLOTLYENV=window.PLOTLYENV || {};                                    if (document.getElementById(\"5ab34b97-c9db-4db9-9858-dc011340b290\")) {                    Plotly.newPlot(                        \"5ab34b97-c9db-4db9-9858-dc011340b290\",                        [{\"hole\":0.3,\"labels\":[\"Field\",\"Bat\"],\"values\":[66.22950819672131,33.77049180327869],\"type\":\"pie\",\"textfont\":{\"size\":12},\"marker\":{\"line\":{\"color\":\"#000000\",\"width\":1},\"colors\":[\"turquoise\",\"crimson\"]},\"hoverinfo\":\"label+percent\",\"textinfo\":\"label+percent\"}],                        {\"template\":{\"data\":{\"histogram2dcontour\":[{\"type\":\"histogram2dcontour\",\"colorbar\":{\"outlinewidth\":0,\"ticks\":\"\"},\"colorscale\":[[0.0,\"#0d0887\"],[0.1111111111111111,\"#46039f\"],[0.2222222222222222,\"#7201a8\"],[0.3333333333333333,\"#9c179e\"],[0.4444444444444444,\"#bd3786\"],[0.5555555555555556,\"#d8576b\"],[0.6666666666666666,\"#ed7953\"],[0.7777777777777778,\"#fb9f3a\"],[0.8888888888888888,\"#fdca26\"],[1.0,\"#f0f921\"]]}],\"choropleth\":[{\"type\":\"choropleth\",\"colorbar\":{\"outlinewidth\":0,\"ticks\":\"\"}}],\"histogram2d\":[{\"type\":\"histogram2d\",\"colorbar\":{\"outlinewidth\":0,\"ticks\":\"\"},\"colorscale\":[[0.0,\"#0d0887\"],[0.1111111111111111,\"#46039f\"],[0.2222222222222222,\"#7201a8\"],[0.3333333333333333,\"#9c179e\"],[0.4444444444444444,\"#bd3786\"],[0.5555555555555556,\"#d8576b\"],[0.6666666666666666,\"#ed7953\"],[0.7777777777777778,\"#fb9f3a\"],[0.8888888888888888,\"#fdca26\"],[1.0,\"#f0f921\"]]}],\"heatmap\":[{\"type\":\"heatmap\",\"colorbar\":{\"outlinewidth\":0,\"ticks\":\"\"},\"colorscale\":[[0.0,\"#0d0887\"],[0.1111111111111111,\"#46039f\"],[0.2222222222222222,\"#7201a8\"],[0.3333333333333333,\"#9c179e\"],[0.4444444444444444,\"#bd3786\"],[0.5555555555555556,\"#d8576b\"],[0.6666666666666666,\"#ed7953\"],[0.7777777777777778,\"#fb9f3a\"],[0.8888888888888888,\"#fdca26\"],[1.0,\"#f0f921\"]]}],\"heatmapgl\":[{\"type\":\"heatmapgl\",\"colorbar\":{\"outlinewidth\":0,\"ticks\":\"\"},\"colorscale\":[[0.0,\"#0d0887\"],[0.1111111111111111,\"#46039f\"],[0.2222222222222222,\"#7201a8\"],[0.3333333333333333,\"#9c179e\"],[0.4444444444444444,\"#bd3786\"],[0.5555555555555556,\"#d8576b\"],[0.6666666666666666,\"#ed7953\"],[0.7777777777777778,\"#fb9f3a\"],[0.8888888888888888,\"#fdca26\"],[1.0,\"#f0f921\"]]}],\"contourcarpet\":[{\"type\":\"contourcarpet\",\"colorbar\":{\"outlinewidth\":0,\"ticks\":\"\"}}],\"contour\":[{\"type\":\"contour\",\"colorbar\":{\"outlinewidth\":0,\"ticks\":\"\"},\"colorscale\":[[0.0,\"#0d0887\"],[0.1111111111111111,\"#46039f\"],[0.2222222222222222,\"#7201a8\"],[0.3333333333333333,\"#9c179e\"],[0.4444444444444444,\"#bd3786\"],[0.5555555555555556,\"#d8576b\"],[0.6666666666666666,\"#ed7953\"],[0.7777777777777778,\"#fb9f3a\"],[0.8888888888888888,\"#fdca26\"],[1.0,\"#f0f921\"]]}],\"surface\":[{\"type\":\"surface\",\"colorbar\":{\"outlinewidth\":0,\"ticks\":\"\"},\"colorscale\":[[0.0,\"#0d0887\"],[0.1111111111111111,\"#46039f\"],[0.2222222222222222,\"#7201a8\"],[0.3333333333333333,\"#9c179e\"],[0.4444444444444444,\"#bd3786\"],[0.5555555555555556,\"#d8576b\"],[0.6666666666666666,\"#ed7953\"],[0.7777777777777778,\"#fb9f3a\"],[0.8888888888888888,\"#fdca26\"],[1.0,\"#f0f921\"]]}],\"mesh3d\":[{\"type\":\"mesh3d\",\"colorbar\":{\"outlinewidth\":0,\"ticks\":\"\"}}],\"scatter\":[{\"fillpattern\":{\"fillmode\":\"overlay\",\"size\":10,\"solidity\":0.2},\"type\":\"scatter\"}],\"parcoords\":[{\"type\":\"parcoords\",\"line\":{\"colorbar\":{\"outlinewidth\":0,\"ticks\":\"\"}}}],\"scatterpolargl\":[{\"type\":\"scatterpolargl\",\"marker\":{\"colorbar\":{\"outlinewidth\":0,\"ticks\":\"\"}}}],\"bar\":[{\"error_x\":{\"color\":\"#2a3f5f\"},\"error_y\":{\"color\":\"#2a3f5f\"},\"marker\":{\"line\":{\"color\":\"#E5ECF6\",\"width\":0.5},\"pattern\":{\"fillmode\":\"overlay\",\"size\":10,\"solidity\":0.2}},\"type\":\"bar\"}],\"scattergeo\":[{\"type\":\"scattergeo\",\"marker\":{\"colorbar\":{\"outlinewidth\":0,\"ticks\":\"\"}}}],\"scatterpolar\":[{\"type\":\"scatterpolar\",\"marker\":{\"colorbar\":{\"outlinewidth\":0,\"ticks\":\"\"}}}],\"histogram\":[{\"marker\":{\"pattern\":{\"fillmode\":\"overlay\",\"size\":10,\"solidity\":0.2}},\"type\":\"histogram\"}],\"scattergl\":[{\"type\":\"scattergl\",\"marker\":{\"colorbar\":{\"outlinewidth\":0,\"ticks\":\"\"}}}],\"scatter3d\":[{\"type\":\"scatter3d\",\"line\":{\"colorbar\":{\"outlinewidth\":0,\"ticks\":\"\"}},\"marker\":{\"colorbar\":{\"outlinewidth\":0,\"ticks\":\"\"}}}],\"scattermapbox\":[{\"type\":\"scattermapbox\",\"marker\":{\"colorbar\":{\"outlinewidth\":0,\"ticks\":\"\"}}}],\"scatterternary\":[{\"type\":\"scatterternary\",\"marker\":{\"colorbar\":{\"outlinewidth\":0,\"ticks\":\"\"}}}],\"scattercarpet\":[{\"type\":\"scattercarpet\",\"marker\":{\"colorbar\":{\"outlinewidth\":0,\"ticks\":\"\"}}}],\"carpet\":[{\"aaxis\":{\"endlinecolor\":\"#2a3f5f\",\"gridcolor\":\"white\",\"linecolor\":\"white\",\"minorgridcolor\":\"white\",\"startlinecolor\":\"#2a3f5f\"},\"baxis\":{\"endlinecolor\":\"#2a3f5f\",\"gridcolor\":\"white\",\"linecolor\":\"white\",\"minorgridcolor\":\"white\",\"startlinecolor\":\"#2a3f5f\"},\"type\":\"carpet\"}],\"table\":[{\"cells\":{\"fill\":{\"color\":\"#EBF0F8\"},\"line\":{\"color\":\"white\"}},\"header\":{\"fill\":{\"color\":\"#C8D4E3\"},\"line\":{\"color\":\"white\"}},\"type\":\"table\"}],\"barpolar\":[{\"marker\":{\"line\":{\"color\":\"#E5ECF6\",\"width\":0.5},\"pattern\":{\"fillmode\":\"overlay\",\"size\":10,\"solidity\":0.2}},\"type\":\"barpolar\"}],\"pie\":[{\"automargin\":true,\"type\":\"pie\"}]},\"layout\":{\"autotypenumbers\":\"strict\",\"colorway\":[\"#636efa\",\"#EF553B\",\"#00cc96\",\"#ab63fa\",\"#FFA15A\",\"#19d3f3\",\"#FF6692\",\"#B6E880\",\"#FF97FF\",\"#FECB52\"],\"font\":{\"color\":\"#2a3f5f\"},\"hovermode\":\"closest\",\"hoverlabel\":{\"align\":\"left\"},\"paper_bgcolor\":\"white\",\"plot_bgcolor\":\"#E5ECF6\",\"polar\":{\"bgcolor\":\"#E5ECF6\",\"angularaxis\":{\"gridcolor\":\"white\",\"linecolor\":\"white\",\"ticks\":\"\"},\"radialaxis\":{\"gridcolor\":\"white\",\"linecolor\":\"white\",\"ticks\":\"\"}},\"ternary\":{\"bgcolor\":\"#E5ECF6\",\"aaxis\":{\"gridcolor\":\"white\",\"linecolor\":\"white\",\"ticks\":\"\"},\"baxis\":{\"gridcolor\":\"white\",\"linecolor\":\"white\",\"ticks\":\"\"},\"caxis\":{\"gridcolor\":\"white\",\"linecolor\":\"white\",\"ticks\":\"\"}},\"coloraxis\":{\"colorbar\":{\"outlinewidth\":0,\"ticks\":\"\"}},\"colorscale\":{\"sequential\":[[0.0,\"#0d0887\"],[0.1111111111111111,\"#46039f\"],[0.2222222222222222,\"#7201a8\"],[0.3333333333333333,\"#9c179e\"],[0.4444444444444444,\"#bd3786\"],[0.5555555555555556,\"#d8576b\"],[0.6666666666666666,\"#ed7953\"],[0.7777777777777778,\"#fb9f3a\"],[0.8888888888888888,\"#fdca26\"],[1.0,\"#f0f921\"]],\"sequentialminus\":[[0.0,\"#0d0887\"],[0.1111111111111111,\"#46039f\"],[0.2222222222222222,\"#7201a8\"],[0.3333333333333333,\"#9c179e\"],[0.4444444444444444,\"#bd3786\"],[0.5555555555555556,\"#d8576b\"],[0.6666666666666666,\"#ed7953\"],[0.7777777777777778,\"#fb9f3a\"],[0.8888888888888888,\"#fdca26\"],[1.0,\"#f0f921\"]],\"diverging\":[[0,\"#8e0152\"],[0.1,\"#c51b7d\"],[0.2,\"#de77ae\"],[0.3,\"#f1b6da\"],[0.4,\"#fde0ef\"],[0.5,\"#f7f7f7\"],[0.6,\"#e6f5d0\"],[0.7,\"#b8e186\"],[0.8,\"#7fbc41\"],[0.9,\"#4d9221\"],[1,\"#276419\"]]},\"xaxis\":{\"gridcolor\":\"white\",\"linecolor\":\"white\",\"ticks\":\"\",\"title\":{\"standoff\":15},\"zerolinecolor\":\"white\",\"automargin\":true,\"zerolinewidth\":2},\"yaxis\":{\"gridcolor\":\"white\",\"linecolor\":\"white\",\"ticks\":\"\",\"title\":{\"standoff\":15},\"zerolinecolor\":\"white\",\"automargin\":true,\"zerolinewidth\":2},\"scene\":{\"xaxis\":{\"backgroundcolor\":\"#E5ECF6\",\"gridcolor\":\"white\",\"linecolor\":\"white\",\"showbackground\":true,\"ticks\":\"\",\"zerolinecolor\":\"white\",\"gridwidth\":2},\"yaxis\":{\"backgroundcolor\":\"#E5ECF6\",\"gridcolor\":\"white\",\"linecolor\":\"white\",\"showbackground\":true,\"ticks\":\"\",\"zerolinecolor\":\"white\",\"gridwidth\":2},\"zaxis\":{\"backgroundcolor\":\"#E5ECF6\",\"gridcolor\":\"white\",\"linecolor\":\"white\",\"showbackground\":true,\"ticks\":\"\",\"zerolinecolor\":\"white\",\"gridwidth\":2}},\"shapedefaults\":{\"line\":{\"color\":\"#2a3f5f\"}},\"annotationdefaults\":{\"arrowcolor\":\"#2a3f5f\",\"arrowhead\":0,\"arrowwidth\":1},\"geo\":{\"bgcolor\":\"white\",\"landcolor\":\"#E5ECF6\",\"subunitcolor\":\"white\",\"showland\":true,\"showlakes\":true,\"lakecolor\":\"white\"},\"title\":{\"x\":0.05},\"mapbox\":{\"style\":\"light\"}}},\"title\":{\"text\":\"Toss decision percentage\",\"font\":{\"size\":18}}},                        {\"responsive\": true}                    ).then(function(){\n",
       "                            \n",
       "var gd = document.getElementById('5ab34b97-c9db-4db9-9858-dc011340b290');\n",
       "var x = new MutationObserver(function (mutations, observer) {{\n",
       "        var display = window.getComputedStyle(gd).display;\n",
       "        if (!display || display === 'none') {{\n",
       "            console.log([gd, 'removed!']);\n",
       "            Plotly.purge(gd);\n",
       "            observer.disconnect();\n",
       "        }}\n",
       "}});\n",
       "\n",
       "// Listen for the removal of the full notebook cells\n",
       "var notebookContainer = gd.closest('#notebook-container');\n",
       "if (notebookContainer) {{\n",
       "    x.observe(notebookContainer, {childList: true});\n",
       "}}\n",
       "\n",
       "// Listen for the clearing of the current output cell\n",
       "var outputEl = gd.closest('.output');\n",
       "if (outputEl) {{\n",
       "    x.observe(outputEl, {childList: true});\n",
       "}}\n",
       "\n",
       "                        })                };                });            </script>        </div>"
      ]
     },
     "metadata": {},
     "output_type": "display_data"
    }
   ],
   "source": [
    "temp_series = df[\"toss_decision\"].value_counts()\n",
    "labels = (np.array(temp_series.index))\n",
    "values = (np.array((temp_series / temp_series.sum())*100))\n",
    "colors = ['turquoise', 'crimson']\n",
    "fig = go.Figure(data=[go.Pie(labels=labels,\n",
    "                             values=values,hole=.3)])\n",
    "fig.update_traces(hoverinfo='label+percent', textinfo='label+percent', textfont_size=12,\n",
    "                  marker=dict(colors=colors, line=dict(color='#000000', width=3)))\n",
    "fig.update_layout(title=\"Toss decision percentage\",\n",
    "                  titlefont={'size': 18},\n",
    "                  )\n",
    "fig.show()"
   ]
  },
  {
   "cell_type": "code",
   "execution_count": null,
   "id": "f71613ff",
   "metadata": {},
   "outputs": [],
   "source": []
  }
 ],
 "metadata": {
  "kernelspec": {
   "display_name": "Python 3 (ipykernel)",
   "language": "python",
   "name": "python3"
  },
  "language_info": {
   "codemirror_mode": {
    "name": "ipython",
    "version": 3
   },
   "file_extension": ".py",
   "mimetype": "text/x-python",
   "name": "python",
   "nbconvert_exporter": "python",
   "pygments_lexer": "ipython3",
   "version": "3.9.12"
  }
 },
 "nbformat": 4,
 "nbformat_minor": 5
}
